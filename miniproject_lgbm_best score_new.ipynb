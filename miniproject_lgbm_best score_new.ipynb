{
  "nbformat": 4,
  "nbformat_minor": 0,
  "metadata": {
    "colab": {
      "name": "miniproject lgbm.ipynb",
      "provenance": [],
      "collapsed_sections": [],
      "machine_shape": "hm",
      "authorship_tag": "ABX9TyOKXx3CBDRAnwD3KX8C1Cx5",
      "include_colab_link": true
    },
    "kernelspec": {
      "name": "python3",
      "display_name": "Python 3"
    }
  },
  "cells": [
    {
      "cell_type": "markdown",
      "metadata": {
        "id": "view-in-github",
        "colab_type": "text"
      },
      "source": [
        "<a href=\"https://colab.research.google.com/github/manypeople-AI/Predict-Future-Sales-miniproject/blob/main/miniproject_lgbm_best%20score_new.ipynb\" target=\"_parent\"><img src=\"https://colab.research.google.com/assets/colab-badge.svg\" alt=\"Open In Colab\"/></a>"
      ]
    },
    {
      "cell_type": "code",
      "metadata": {
        "colab": {
          "base_uri": "https://localhost:8080/"
        },
        "id": "MCQtQ4bG48rk",
        "outputId": "d9d8dd70-6a20-426f-d879-0d774271b212"
      },
      "source": [
        "!pip install category_encoders"
      ],
      "execution_count": 1,
      "outputs": [
        {
          "output_type": "stream",
          "text": [
            "Collecting category_encoders\n",
            "\u001b[?25l  Downloading https://files.pythonhosted.org/packages/44/57/fcef41c248701ee62e8325026b90c432adea35555cbc870aff9cfba23727/category_encoders-2.2.2-py2.py3-none-any.whl (80kB)\n",
            "\r\u001b[K     |████                            | 10kB 14.2MB/s eta 0:00:01\r\u001b[K     |████████▏                       | 20kB 20.6MB/s eta 0:00:01\r\u001b[K     |████████████▏                   | 30kB 15.8MB/s eta 0:00:01\r\u001b[K     |████████████████▎               | 40kB 12.3MB/s eta 0:00:01\r\u001b[K     |████████████████████▎           | 51kB 12.7MB/s eta 0:00:01\r\u001b[K     |████████████████████████▍       | 61kB 12.9MB/s eta 0:00:01\r\u001b[K     |████████████████████████████▍   | 71kB 12.0MB/s eta 0:00:01\r\u001b[K     |████████████████████████████████| 81kB 4.1MB/s \n",
            "\u001b[?25hRequirement already satisfied: patsy>=0.5.1 in /usr/local/lib/python3.7/dist-packages (from category_encoders) (0.5.1)\n",
            "Requirement already satisfied: pandas>=0.21.1 in /usr/local/lib/python3.7/dist-packages (from category_encoders) (1.1.5)\n",
            "Requirement already satisfied: scikit-learn>=0.20.0 in /usr/local/lib/python3.7/dist-packages (from category_encoders) (0.22.2.post1)\n",
            "Requirement already satisfied: numpy>=1.14.0 in /usr/local/lib/python3.7/dist-packages (from category_encoders) (1.19.5)\n",
            "Requirement already satisfied: statsmodels>=0.9.0 in /usr/local/lib/python3.7/dist-packages (from category_encoders) (0.10.2)\n",
            "Requirement already satisfied: scipy>=1.0.0 in /usr/local/lib/python3.7/dist-packages (from category_encoders) (1.4.1)\n",
            "Requirement already satisfied: six in /usr/local/lib/python3.7/dist-packages (from patsy>=0.5.1->category_encoders) (1.15.0)\n",
            "Requirement already satisfied: pytz>=2017.2 in /usr/local/lib/python3.7/dist-packages (from pandas>=0.21.1->category_encoders) (2018.9)\n",
            "Requirement already satisfied: python-dateutil>=2.7.3 in /usr/local/lib/python3.7/dist-packages (from pandas>=0.21.1->category_encoders) (2.8.1)\n",
            "Requirement already satisfied: joblib>=0.11 in /usr/local/lib/python3.7/dist-packages (from scikit-learn>=0.20.0->category_encoders) (1.0.1)\n",
            "Installing collected packages: category-encoders\n",
            "Successfully installed category-encoders-2.2.2\n"
          ],
          "name": "stdout"
        }
      ]
    },
    {
      "cell_type": "code",
      "metadata": {
        "colab": {
          "base_uri": "https://localhost:8080/"
        },
        "id": "UeZF7E4R5mpB",
        "outputId": "c989b9c8-fc19-4d48-cf41-af0bfe715009"
      },
      "source": [
        "import pandas as pd\r\n",
        "import numpy as np\r\n",
        "from itertools import product\r\n",
        "from collections import Counter\r\n",
        "from sklearn.cluster import KMeans\r\n",
        "from sklearn.preprocessing import LabelEncoder\r\n",
        "le=LabelEncoder()\r\n",
        "import category_encoders as ce\r\n",
        "import warnings\r\n",
        "\r\n",
        "pd.set_option('display.max_rows', 400)\r\n",
        "pd.set_option('display.max_columns', 160)\r\n",
        "pd.set_option('display.max_colwidth', 40)\r\n",
        "warnings.filterwarnings(\"ignore\")"
      ],
      "execution_count": 2,
      "outputs": [
        {
          "output_type": "stream",
          "text": [
            "/usr/local/lib/python3.7/dist-packages/statsmodels/tools/_testing.py:19: FutureWarning: pandas.util.testing is deprecated. Use the functions in the public API at pandas.testing instead.\n",
            "  import pandas.util.testing as tm\n"
          ],
          "name": "stderr"
        }
      ]
    },
    {
      "cell_type": "markdown",
      "metadata": {
        "id": "jxZVgBbe5pvx"
      },
      "source": [
        "# Preparing & Preprocessing Dataset"
      ]
    },
    {
      "cell_type": "code",
      "metadata": {
        "colab": {
          "base_uri": "https://localhost:8080/"
        },
        "id": "O9cZsN1Z48yZ",
        "outputId": "b3e978c7-7693-40d2-a75f-174424b55ec5"
      },
      "source": [
        "from google.colab import drive\r\n",
        "\r\n",
        "drive.mount('/content/gdrive')"
      ],
      "execution_count": 3,
      "outputs": [
        {
          "output_type": "stream",
          "text": [
            "Mounted at /content/gdrive\n"
          ],
          "name": "stdout"
        }
      ]
    },
    {
      "cell_type": "code",
      "metadata": {
        "colab": {
          "base_uri": "https://localhost:8080/"
        },
        "id": "7Caoh-6o480p",
        "outputId": "30bb99e3-856e-4873-9b92-ce716ac06014"
      },
      "source": [
        "cd /content/gdrive/My Drive/mini_project"
      ],
      "execution_count": 4,
      "outputs": [
        {
          "output_type": "stream",
          "text": [
            "/content/gdrive/My Drive/mini_project\n"
          ],
          "name": "stdout"
        }
      ]
    },
    {
      "cell_type": "code",
      "metadata": {
        "id": "RL0rb_yk4822"
      },
      "source": [
        "items = pd.read_csv(\"items.csv\")\r\n",
        "shops = pd.read_csv(\"shops.csv\")\r\n",
        "categ = pd.read_csv(\"item_categories.csv\")\r\n",
        "train = pd.read_csv(\"sales_train.csv\")\r\n",
        "test= pd.read_csv(\"test.csv\").set_index('ID')"
      ],
      "execution_count": 5,
      "outputs": []
    },
    {
      "cell_type": "markdown",
      "metadata": {
        "id": "YQHiL3irI8g7"
      },
      "source": [
        "train data 결측치/이상치/중복행 제거"
      ]
    },
    {
      "cell_type": "code",
      "metadata": {
        "colab": {
          "base_uri": "https://localhost:8080/"
        },
        "id": "gdP-9A8gJHNb",
        "outputId": "ab1603e9-0853-45d0-d6d2-2a607675c1e0"
      },
      "source": [
        "#train data 결측치 확인\r\n",
        "\r\n",
        "train.isnull().sum()"
      ],
      "execution_count": 6,
      "outputs": [
        {
          "output_type": "execute_result",
          "data": {
            "text/plain": [
              "date              0\n",
              "date_block_num    0\n",
              "shop_id           0\n",
              "item_id           0\n",
              "item_price        0\n",
              "item_cnt_day      0\n",
              "dtype: int64"
            ]
          },
          "metadata": {
            "tags": []
          },
          "execution_count": 6
        }
      ]
    },
    {
      "cell_type": "markdown",
      "metadata": {
        "id": "D7uWKRkcJTrk"
      },
      "source": [
        "-> 결측치는 없음"
      ]
    },
    {
      "cell_type": "code",
      "metadata": {
        "colab": {
          "base_uri": "https://localhost:8080/"
        },
        "id": "gG_5nh_7JHTT",
        "outputId": "939a1ec1-9310-4462-a0ae-974b1948ce6f"
      },
      "source": [
        "#train/test data 중복 여부 확인\r\n",
        "sum(train.duplicated()), sum(test.duplicated())"
      ],
      "execution_count": 7,
      "outputs": [
        {
          "output_type": "execute_result",
          "data": {
            "text/plain": [
              "(6, 0)"
            ]
          },
          "metadata": {
            "tags": []
          },
          "execution_count": 7
        }
      ]
    },
    {
      "cell_type": "markdown",
      "metadata": {
        "id": "jJoFaGpDKMzy"
      },
      "source": [
        "-> train data에 중복행이 6개 존재"
      ]
    },
    {
      "cell_type": "code",
      "metadata": {
        "colab": {
          "base_uri": "https://localhost:8080/"
        },
        "id": "HYEGgy37JHWw",
        "outputId": "c8dc6d76-0b10-4f61-b54f-da15f3725663"
      },
      "source": [
        "#item, category, shops 중복 여부 확인\r\n",
        "sum(items.duplicated()),sum(categ.duplicated()),sum(shops.duplicated())"
      ],
      "execution_count": 8,
      "outputs": [
        {
          "output_type": "execute_result",
          "data": {
            "text/plain": [
              "(0, 0, 0)"
            ]
          },
          "metadata": {
            "tags": []
          },
          "execution_count": 8
        }
      ]
    },
    {
      "cell_type": "code",
      "metadata": {
        "colab": {
          "base_uri": "https://localhost:8080/"
        },
        "id": "A_CDu3zjKLyo",
        "outputId": "7a8e328e-ed58-4664-917e-81404fee6afc"
      },
      "source": [
        "train.info()"
      ],
      "execution_count": 9,
      "outputs": [
        {
          "output_type": "stream",
          "text": [
            "<class 'pandas.core.frame.DataFrame'>\n",
            "RangeIndex: 2935849 entries, 0 to 2935848\n",
            "Data columns (total 6 columns):\n",
            " #   Column          Dtype  \n",
            "---  ------          -----  \n",
            " 0   date            object \n",
            " 1   date_block_num  int64  \n",
            " 2   shop_id         int64  \n",
            " 3   item_id         int64  \n",
            " 4   item_price      float64\n",
            " 5   item_cnt_day    float64\n",
            "dtypes: float64(2), int64(3), object(1)\n",
            "memory usage: 134.4+ MB\n"
          ],
          "name": "stdout"
        }
      ]
    },
    {
      "cell_type": "markdown",
      "metadata": {
        "id": "V3JST_oG9OB9"
      },
      "source": [
        "category data"
      ]
    },
    {
      "cell_type": "code",
      "metadata": {
        "colab": {
          "base_uri": "https://localhost:8080/",
          "height": 196
        },
        "id": "f_L6yp2eBxwo",
        "outputId": "872d0b30-3dc4-45c2-9e06-e8e0d7d68060"
      },
      "source": [
        "categ.head()"
      ],
      "execution_count": 10,
      "outputs": [
        {
          "output_type": "execute_result",
          "data": {
            "text/html": [
              "<div>\n",
              "<style scoped>\n",
              "    .dataframe tbody tr th:only-of-type {\n",
              "        vertical-align: middle;\n",
              "    }\n",
              "\n",
              "    .dataframe tbody tr th {\n",
              "        vertical-align: top;\n",
              "    }\n",
              "\n",
              "    .dataframe thead th {\n",
              "        text-align: right;\n",
              "    }\n",
              "</style>\n",
              "<table border=\"1\" class=\"dataframe\">\n",
              "  <thead>\n",
              "    <tr style=\"text-align: right;\">\n",
              "      <th></th>\n",
              "      <th>item_category_name</th>\n",
              "      <th>item_category_id</th>\n",
              "    </tr>\n",
              "  </thead>\n",
              "  <tbody>\n",
              "    <tr>\n",
              "      <th>0</th>\n",
              "      <td>PC - Гарнитуры/Наушники</td>\n",
              "      <td>0</td>\n",
              "    </tr>\n",
              "    <tr>\n",
              "      <th>1</th>\n",
              "      <td>Аксессуары - PS2</td>\n",
              "      <td>1</td>\n",
              "    </tr>\n",
              "    <tr>\n",
              "      <th>2</th>\n",
              "      <td>Аксессуары - PS3</td>\n",
              "      <td>2</td>\n",
              "    </tr>\n",
              "    <tr>\n",
              "      <th>3</th>\n",
              "      <td>Аксессуары - PS4</td>\n",
              "      <td>3</td>\n",
              "    </tr>\n",
              "    <tr>\n",
              "      <th>4</th>\n",
              "      <td>Аксессуары - PSP</td>\n",
              "      <td>4</td>\n",
              "    </tr>\n",
              "  </tbody>\n",
              "</table>\n",
              "</div>"
            ],
            "text/plain": [
              "        item_category_name  item_category_id\n",
              "0  PC - Гарнитуры/Наушники                 0\n",
              "1         Аксессуары - PS2                 1\n",
              "2         Аксессуары - PS3                 2\n",
              "3         Аксессуары - PS4                 3\n",
              "4         Аксессуары - PSP                 4"
            ]
          },
          "metadata": {
            "tags": []
          },
          "execution_count": 10
        }
      ]
    },
    {
      "cell_type": "code",
      "metadata": {
        "colab": {
          "base_uri": "https://localhost:8080/",
          "height": 673
        },
        "id": "EEdTW4Vr4849",
        "outputId": "bc33cfde-c3ff-4edc-936d-dd569da5da68"
      },
      "source": [
        "pd.DataFrame(categ.item_category_name.values.reshape(-1,4))"
      ],
      "execution_count": 11,
      "outputs": [
        {
          "output_type": "execute_result",
          "data": {
            "text/html": [
              "<div>\n",
              "<style scoped>\n",
              "    .dataframe tbody tr th:only-of-type {\n",
              "        vertical-align: middle;\n",
              "    }\n",
              "\n",
              "    .dataframe tbody tr th {\n",
              "        vertical-align: top;\n",
              "    }\n",
              "\n",
              "    .dataframe thead th {\n",
              "        text-align: right;\n",
              "    }\n",
              "</style>\n",
              "<table border=\"1\" class=\"dataframe\">\n",
              "  <thead>\n",
              "    <tr style=\"text-align: right;\">\n",
              "      <th></th>\n",
              "      <th>0</th>\n",
              "      <th>1</th>\n",
              "      <th>2</th>\n",
              "      <th>3</th>\n",
              "    </tr>\n",
              "  </thead>\n",
              "  <tbody>\n",
              "    <tr>\n",
              "      <th>0</th>\n",
              "      <td>PC - Гарнитуры/Наушники</td>\n",
              "      <td>Аксессуары - PS2</td>\n",
              "      <td>Аксессуары - PS3</td>\n",
              "      <td>Аксессуары - PS4</td>\n",
              "    </tr>\n",
              "    <tr>\n",
              "      <th>1</th>\n",
              "      <td>Аксессуары - PSP</td>\n",
              "      <td>Аксессуары - PSVita</td>\n",
              "      <td>Аксессуары - XBOX 360</td>\n",
              "      <td>Аксессуары - XBOX ONE</td>\n",
              "    </tr>\n",
              "    <tr>\n",
              "      <th>2</th>\n",
              "      <td>Билеты (Цифра)</td>\n",
              "      <td>Доставка товара</td>\n",
              "      <td>Игровые консоли - PS2</td>\n",
              "      <td>Игровые консоли - PS3</td>\n",
              "    </tr>\n",
              "    <tr>\n",
              "      <th>3</th>\n",
              "      <td>Игровые консоли - PS4</td>\n",
              "      <td>Игровые консоли - PSP</td>\n",
              "      <td>Игровые консоли - PSVita</td>\n",
              "      <td>Игровые консоли - XBOX 360</td>\n",
              "    </tr>\n",
              "    <tr>\n",
              "      <th>4</th>\n",
              "      <td>Игровые консоли - XBOX ONE</td>\n",
              "      <td>Игровые консоли - Прочие</td>\n",
              "      <td>Игры - PS2</td>\n",
              "      <td>Игры - PS3</td>\n",
              "    </tr>\n",
              "    <tr>\n",
              "      <th>5</th>\n",
              "      <td>Игры - PS4</td>\n",
              "      <td>Игры - PSP</td>\n",
              "      <td>Игры - PSVita</td>\n",
              "      <td>Игры - XBOX 360</td>\n",
              "    </tr>\n",
              "    <tr>\n",
              "      <th>6</th>\n",
              "      <td>Игры - XBOX ONE</td>\n",
              "      <td>Игры - Аксессуары для игр</td>\n",
              "      <td>Игры Android - Цифра</td>\n",
              "      <td>Игры MAC - Цифра</td>\n",
              "    </tr>\n",
              "    <tr>\n",
              "      <th>7</th>\n",
              "      <td>Игры PC - Дополнительные издания</td>\n",
              "      <td>Игры PC - Коллекционные издания</td>\n",
              "      <td>Игры PC - Стандартные издания</td>\n",
              "      <td>Игры PC - Цифра</td>\n",
              "    </tr>\n",
              "    <tr>\n",
              "      <th>8</th>\n",
              "      <td>Карты оплаты (Кино, Музыка, Игры)</td>\n",
              "      <td>Карты оплаты - Live!</td>\n",
              "      <td>Карты оплаты - Live! (Цифра)</td>\n",
              "      <td>Карты оплаты - PSN</td>\n",
              "    </tr>\n",
              "    <tr>\n",
              "      <th>9</th>\n",
              "      <td>Карты оплаты - Windows (Цифра)</td>\n",
              "      <td>Кино - Blu-Ray</td>\n",
              "      <td>Кино - Blu-Ray 3D</td>\n",
              "      <td>Кино - Blu-Ray 4K</td>\n",
              "    </tr>\n",
              "    <tr>\n",
              "      <th>10</th>\n",
              "      <td>Кино - DVD</td>\n",
              "      <td>Кино - Коллекционное</td>\n",
              "      <td>Книги - Артбуки, энциклопедии</td>\n",
              "      <td>Книги - Аудиокниги</td>\n",
              "    </tr>\n",
              "    <tr>\n",
              "      <th>11</th>\n",
              "      <td>Книги - Аудиокниги (Цифра)</td>\n",
              "      <td>Книги - Аудиокниги 1С</td>\n",
              "      <td>Книги - Бизнес литература</td>\n",
              "      <td>Книги - Комиксы, манга</td>\n",
              "    </tr>\n",
              "    <tr>\n",
              "      <th>12</th>\n",
              "      <td>Книги - Компьютерная литература</td>\n",
              "      <td>Книги - Методические материалы 1С</td>\n",
              "      <td>Книги - Открытки</td>\n",
              "      <td>Книги - Познавательная литература</td>\n",
              "    </tr>\n",
              "    <tr>\n",
              "      <th>13</th>\n",
              "      <td>Книги - Путеводители</td>\n",
              "      <td>Книги - Художественная литература</td>\n",
              "      <td>Книги - Цифра</td>\n",
              "      <td>Музыка - CD локального производства</td>\n",
              "    </tr>\n",
              "    <tr>\n",
              "      <th>14</th>\n",
              "      <td>Музыка - CD фирменного производства</td>\n",
              "      <td>Музыка - MP3</td>\n",
              "      <td>Музыка - Винил</td>\n",
              "      <td>Музыка - Музыкальное видео</td>\n",
              "    </tr>\n",
              "    <tr>\n",
              "      <th>15</th>\n",
              "      <td>Музыка - Подарочные издания</td>\n",
              "      <td>Подарки - Атрибутика</td>\n",
              "      <td>Подарки - Гаджеты, роботы, спорт</td>\n",
              "      <td>Подарки - Мягкие игрушки</td>\n",
              "    </tr>\n",
              "    <tr>\n",
              "      <th>16</th>\n",
              "      <td>Подарки - Настольные игры</td>\n",
              "      <td>Подарки - Настольные игры (компактные)</td>\n",
              "      <td>Подарки - Открытки, наклейки</td>\n",
              "      <td>Подарки - Развитие</td>\n",
              "    </tr>\n",
              "    <tr>\n",
              "      <th>17</th>\n",
              "      <td>Подарки - Сертификаты, услуги</td>\n",
              "      <td>Подарки - Сувениры</td>\n",
              "      <td>Подарки - Сувениры (в навеску)</td>\n",
              "      <td>Подарки - Сумки, Альбомы, Коврики д/...</td>\n",
              "    </tr>\n",
              "    <tr>\n",
              "      <th>18</th>\n",
              "      <td>Подарки - Фигурки</td>\n",
              "      <td>Программы - 1С:Предприятие 8</td>\n",
              "      <td>Программы - MAC (Цифра)</td>\n",
              "      <td>Программы - Для дома и офиса</td>\n",
              "    </tr>\n",
              "    <tr>\n",
              "      <th>19</th>\n",
              "      <td>Программы - Для дома и офиса (Цифра)</td>\n",
              "      <td>Программы - Обучающие</td>\n",
              "      <td>Программы - Обучающие (Цифра)</td>\n",
              "      <td>Служебные</td>\n",
              "    </tr>\n",
              "    <tr>\n",
              "      <th>20</th>\n",
              "      <td>Служебные - Билеты</td>\n",
              "      <td>Чистые носители (шпиль)</td>\n",
              "      <td>Чистые носители (штучные)</td>\n",
              "      <td>Элементы питания</td>\n",
              "    </tr>\n",
              "  </tbody>\n",
              "</table>\n",
              "</div>"
            ],
            "text/plain": [
              "                                       0  \\\n",
              "0                PC - Гарнитуры/Наушники   \n",
              "1                       Аксессуары - PSP   \n",
              "2                         Билеты (Цифра)   \n",
              "3                  Игровые консоли - PS4   \n",
              "4             Игровые консоли - XBOX ONE   \n",
              "5                             Игры - PS4   \n",
              "6                        Игры - XBOX ONE   \n",
              "7       Игры PC - Дополнительные издания   \n",
              "8      Карты оплаты (Кино, Музыка, Игры)   \n",
              "9         Карты оплаты - Windows (Цифра)   \n",
              "10                            Кино - DVD   \n",
              "11            Книги - Аудиокниги (Цифра)   \n",
              "12       Книги - Компьютерная литература   \n",
              "13                  Книги - Путеводители   \n",
              "14   Музыка - CD фирменного производства   \n",
              "15           Музыка - Подарочные издания   \n",
              "16             Подарки - Настольные игры   \n",
              "17         Подарки - Сертификаты, услуги   \n",
              "18                     Подарки - Фигурки   \n",
              "19  Программы - Для дома и офиса (Цифра)   \n",
              "20                    Служебные - Билеты   \n",
              "\n",
              "                                         1                                 2  \\\n",
              "0                         Аксессуары - PS2                  Аксессуары - PS3   \n",
              "1                      Аксессуары - PSVita             Аксессуары - XBOX 360   \n",
              "2                          Доставка товара             Игровые консоли - PS2   \n",
              "3                    Игровые консоли - PSP          Игровые консоли - PSVita   \n",
              "4                 Игровые консоли - Прочие                        Игры - PS2   \n",
              "5                               Игры - PSP                     Игры - PSVita   \n",
              "6                Игры - Аксессуары для игр              Игры Android - Цифра   \n",
              "7          Игры PC - Коллекционные издания     Игры PC - Стандартные издания   \n",
              "8                     Карты оплаты - Live!      Карты оплаты - Live! (Цифра)   \n",
              "9                           Кино - Blu-Ray                 Кино - Blu-Ray 3D   \n",
              "10                    Кино - Коллекционное     Книги - Артбуки, энциклопедии   \n",
              "11                   Книги - Аудиокниги 1С         Книги - Бизнес литература   \n",
              "12       Книги - Методические материалы 1С                  Книги - Открытки   \n",
              "13       Книги - Художественная литература                     Книги - Цифра   \n",
              "14                            Музыка - MP3                    Музыка - Винил   \n",
              "15                    Подарки - Атрибутика  Подарки - Гаджеты, роботы, спорт   \n",
              "16  Подарки - Настольные игры (компактные)      Подарки - Открытки, наклейки   \n",
              "17                      Подарки - Сувениры    Подарки - Сувениры (в навеску)   \n",
              "18            Программы - 1С:Предприятие 8           Программы - MAC (Цифра)   \n",
              "19                   Программы - Обучающие     Программы - Обучающие (Цифра)   \n",
              "20                 Чистые носители (шпиль)         Чистые носители (штучные)   \n",
              "\n",
              "                                          3  \n",
              "0                          Аксессуары - PS4  \n",
              "1                     Аксессуары - XBOX ONE  \n",
              "2                     Игровые консоли - PS3  \n",
              "3                Игровые консоли - XBOX 360  \n",
              "4                                Игры - PS3  \n",
              "5                           Игры - XBOX 360  \n",
              "6                          Игры MAC - Цифра  \n",
              "7                           Игры PC - Цифра  \n",
              "8                        Карты оплаты - PSN  \n",
              "9                         Кино - Blu-Ray 4K  \n",
              "10                       Книги - Аудиокниги  \n",
              "11                   Книги - Комиксы, манга  \n",
              "12        Книги - Познавательная литература  \n",
              "13      Музыка - CD локального производства  \n",
              "14               Музыка - Музыкальное видео  \n",
              "15                 Подарки - Мягкие игрушки  \n",
              "16                       Подарки - Развитие  \n",
              "17  Подарки - Сумки, Альбомы, Коврики д/...  \n",
              "18             Программы - Для дома и офиса  \n",
              "19                                Служебные  \n",
              "20                         Элементы питания  "
            ]
          },
          "metadata": {
            "tags": []
          },
          "execution_count": 11
        }
      ]
    },
    {
      "cell_type": "code",
      "metadata": {
        "colab": {
          "base_uri": "https://localhost:8080/",
          "height": 196
        },
        "id": "5pWrXhNh486b",
        "outputId": "49e95e21-f425-42b1-ce56-b78efc43747a"
      },
      "source": [
        "# 모든 카테고리 이름들에 기본과 하위 사이에 '-'가 있는 것은 X\r\n",
        "# 문자가 아닌 것들의 바로 앞 이름을 추출해 그룹을 생성하고 그룹이름을 인코딩하는 레이블로 group_id 열을 생성\r\n",
        "\r\n",
        "\r\n",
        "#pandas에서 문자열 관련 함수를 사용, 전처리하기 위해서는 명령어 앞에 str을 붙인다\r\n",
        "#extract() : 원하는 문자열 추출, 정규표현식 이용\r\n",
        "categ['group_name'] = categ['item_category_name'].str.extract(r'(^[\\w\\s]*)')\r\n",
        "\r\n",
        "#strip() : 공백제거\r\n",
        "categ['group_name'] = categ['group_name'].str.strip()\r\n",
        "\r\n",
        "#label encoding 하기\r\n",
        "categ['type_id']=le.fit_transform(categ.group_name.values)\r\n",
        "\r\n",
        "categ.head(5)"
      ],
      "execution_count": 12,
      "outputs": [
        {
          "output_type": "execute_result",
          "data": {
            "text/html": [
              "<div>\n",
              "<style scoped>\n",
              "    .dataframe tbody tr th:only-of-type {\n",
              "        vertical-align: middle;\n",
              "    }\n",
              "\n",
              "    .dataframe tbody tr th {\n",
              "        vertical-align: top;\n",
              "    }\n",
              "\n",
              "    .dataframe thead th {\n",
              "        text-align: right;\n",
              "    }\n",
              "</style>\n",
              "<table border=\"1\" class=\"dataframe\">\n",
              "  <thead>\n",
              "    <tr style=\"text-align: right;\">\n",
              "      <th></th>\n",
              "      <th>item_category_name</th>\n",
              "      <th>item_category_id</th>\n",
              "      <th>group_name</th>\n",
              "      <th>type_id</th>\n",
              "    </tr>\n",
              "  </thead>\n",
              "  <tbody>\n",
              "    <tr>\n",
              "      <th>0</th>\n",
              "      <td>PC - Гарнитуры/Наушники</td>\n",
              "      <td>0</td>\n",
              "      <td>PC</td>\n",
              "      <td>0</td>\n",
              "    </tr>\n",
              "    <tr>\n",
              "      <th>1</th>\n",
              "      <td>Аксессуары - PS2</td>\n",
              "      <td>1</td>\n",
              "      <td>Аксессуары</td>\n",
              "      <td>1</td>\n",
              "    </tr>\n",
              "    <tr>\n",
              "      <th>2</th>\n",
              "      <td>Аксессуары - PS3</td>\n",
              "      <td>2</td>\n",
              "      <td>Аксессуары</td>\n",
              "      <td>1</td>\n",
              "    </tr>\n",
              "    <tr>\n",
              "      <th>3</th>\n",
              "      <td>Аксессуары - PS4</td>\n",
              "      <td>3</td>\n",
              "      <td>Аксессуары</td>\n",
              "      <td>1</td>\n",
              "    </tr>\n",
              "    <tr>\n",
              "      <th>4</th>\n",
              "      <td>Аксессуары - PSP</td>\n",
              "      <td>4</td>\n",
              "      <td>Аксессуары</td>\n",
              "      <td>1</td>\n",
              "    </tr>\n",
              "  </tbody>\n",
              "</table>\n",
              "</div>"
            ],
            "text/plain": [
              "        item_category_name  item_category_id  group_name  type_id\n",
              "0  PC - Гарнитуры/Наушники                 0          PC        0\n",
              "1         Аксессуары - PS2                 1  Аксессуары        1\n",
              "2         Аксессуары - PS3                 2  Аксессуары        1\n",
              "3         Аксессуары - PS4                 3  Аксессуары        1\n",
              "4         Аксессуары - PSP                 4  Аксессуары        1"
            ]
          },
          "metadata": {
            "tags": []
          },
          "execution_count": 12
        }
      ]
    },
    {
      "cell_type": "code",
      "metadata": {
        "colab": {
          "base_uri": "https://localhost:8080/",
          "height": 137
        },
        "id": "CnhTpDetInv0",
        "outputId": "40c03f25-da8b-42d4-82b4-db9c0d9fa894"
      },
      "source": [
        "categ=categ[['item_category_id','type_id']]\r\n",
        "categ.head(3)"
      ],
      "execution_count": 13,
      "outputs": [
        {
          "output_type": "execute_result",
          "data": {
            "text/html": [
              "<div>\n",
              "<style scoped>\n",
              "    .dataframe tbody tr th:only-of-type {\n",
              "        vertical-align: middle;\n",
              "    }\n",
              "\n",
              "    .dataframe tbody tr th {\n",
              "        vertical-align: top;\n",
              "    }\n",
              "\n",
              "    .dataframe thead th {\n",
              "        text-align: right;\n",
              "    }\n",
              "</style>\n",
              "<table border=\"1\" class=\"dataframe\">\n",
              "  <thead>\n",
              "    <tr style=\"text-align: right;\">\n",
              "      <th></th>\n",
              "      <th>item_category_id</th>\n",
              "      <th>type_id</th>\n",
              "    </tr>\n",
              "  </thead>\n",
              "  <tbody>\n",
              "    <tr>\n",
              "      <th>0</th>\n",
              "      <td>0</td>\n",
              "      <td>0</td>\n",
              "    </tr>\n",
              "    <tr>\n",
              "      <th>1</th>\n",
              "      <td>1</td>\n",
              "      <td>1</td>\n",
              "    </tr>\n",
              "    <tr>\n",
              "      <th>2</th>\n",
              "      <td>2</td>\n",
              "      <td>1</td>\n",
              "    </tr>\n",
              "  </tbody>\n",
              "</table>\n",
              "</div>"
            ],
            "text/plain": [
              "   item_category_id  type_id\n",
              "0                 0        0\n",
              "1                 1        1\n",
              "2                 2        1"
            ]
          },
          "metadata": {
            "tags": []
          },
          "execution_count": 13
        }
      ]
    },
    {
      "cell_type": "markdown",
      "metadata": {
        "id": "uFYvCrPrNA2b"
      },
      "source": [
        "item data"
      ]
    },
    {
      "cell_type": "code",
      "metadata": {
        "colab": {
          "base_uri": "https://localhost:8080/",
          "height": 137
        },
        "id": "WiMFs-6RInx-",
        "outputId": "86202f83-755e-4281-96fd-b12f7db3ae8d"
      },
      "source": [
        "items.head(3)"
      ],
      "execution_count": 14,
      "outputs": [
        {
          "output_type": "execute_result",
          "data": {
            "text/html": [
              "<div>\n",
              "<style scoped>\n",
              "    .dataframe tbody tr th:only-of-type {\n",
              "        vertical-align: middle;\n",
              "    }\n",
              "\n",
              "    .dataframe tbody tr th {\n",
              "        vertical-align: top;\n",
              "    }\n",
              "\n",
              "    .dataframe thead th {\n",
              "        text-align: right;\n",
              "    }\n",
              "</style>\n",
              "<table border=\"1\" class=\"dataframe\">\n",
              "  <thead>\n",
              "    <tr style=\"text-align: right;\">\n",
              "      <th></th>\n",
              "      <th>item_name</th>\n",
              "      <th>item_id</th>\n",
              "      <th>item_category_id</th>\n",
              "    </tr>\n",
              "  </thead>\n",
              "  <tbody>\n",
              "    <tr>\n",
              "      <th>0</th>\n",
              "      <td>! ВО ВЛАСТИ НАВАЖДЕНИЯ (ПЛАСТ.)     ...</td>\n",
              "      <td>0</td>\n",
              "      <td>40</td>\n",
              "    </tr>\n",
              "    <tr>\n",
              "      <th>1</th>\n",
              "      <td>!ABBYY FineReader 12 Professional Ed...</td>\n",
              "      <td>1</td>\n",
              "      <td>76</td>\n",
              "    </tr>\n",
              "    <tr>\n",
              "      <th>2</th>\n",
              "      <td>***В ЛУЧАХ СЛАВЫ   (UNV)            ...</td>\n",
              "      <td>2</td>\n",
              "      <td>40</td>\n",
              "    </tr>\n",
              "  </tbody>\n",
              "</table>\n",
              "</div>"
            ],
            "text/plain": [
              "                                 item_name  item_id  item_category_id\n",
              "0  ! ВО ВЛАСТИ НАВАЖДЕНИЯ (ПЛАСТ.)     ...        0                40\n",
              "1  !ABBYY FineReader 12 Professional Ed...        1                76\n",
              "2  ***В ЛУЧАХ СЛАВЫ   (UNV)            ...        2                40"
            ]
          },
          "metadata": {
            "tags": []
          },
          "execution_count": 14
        }
      ]
    },
    {
      "cell_type": "code",
      "metadata": {
        "id": "alcg5R09Inz7"
      },
      "source": [
        "#item_name clean\r\n",
        "\r\n",
        "#소문자로 바꾸기\r\n",
        "items['item_name'] = items['item_name'].str.lower()\r\n",
        "items['item_name'] = items['item_name'].str.replace('.','')\r\n",
        "\r\n",
        "#정규표현식, 제거?\r\n",
        "for i in [r'[^\\w\\d\\s\\.]', r'\\bthe\\b', r'\\bin\\b', r'\\bis\\b',r'\\bfor\\b', r'\\bof\\b', r'\\bon\\b', r'\\band\\b',r'\\bto\\b', r'\\bwith\\b' , r'\\byo\\b']:\r\n",
        "    items['item_name'] = items['item_name'].str.replace(i, ' ')\r\n",
        "\r\n",
        "\r\n",
        "items['item_name'] = items['item_name'].str.replace(r'\\b.\\b', ' ')"
      ],
      "execution_count": 15,
      "outputs": []
    },
    {
      "cell_type": "code",
      "metadata": {
        "id": "5mfpEjkCPL11"
      },
      "source": [
        "#extract first n characters of name\r\n",
        "items['item_name_no_space'] = items['item_name'].str.replace(' ', '')\r\n",
        "items['item_name_first4'] = [x[:4] for x in items['item_name_no_space']]\r\n",
        "items['item_name_first6'] = [x[:6] for x in items['item_name_no_space']]\r\n",
        "items['item_name_first11'] = [x[:11] for x in items['item_name_no_space']]\r\n",
        "del items['item_name_no_space']\r\n"
      ],
      "execution_count": 16,
      "outputs": []
    },
    {
      "cell_type": "code",
      "metadata": {
        "id": "WXl91WpiPm7k"
      },
      "source": [
        "#label encode \r\n",
        "items.item_name_first4 = le.fit_transform(items.item_name_first4.values)\r\n",
        "items.item_name_first6 = le.fit_transform(items.item_name_first6.values)\r\n",
        "items.item_name_first11 = le.fit_transform(items.item_name_first11.values)"
      ],
      "execution_count": 17,
      "outputs": []
    },
    {
      "cell_type": "code",
      "metadata": {
        "colab": {
          "base_uri": "https://localhost:8080/",
          "height": 345
        },
        "id": "mcXfZrr9Pq5W",
        "outputId": "4a8eec9d-8221-47ea-db4f-f75df4443615"
      },
      "source": [
        "#join category_name, group_name and group_id to items\r\n",
        "items = items.join(categ.set_index('item_category_id'), on='item_category_id')\r\n",
        "items.sample(10)"
      ],
      "execution_count": 18,
      "outputs": [
        {
          "output_type": "execute_result",
          "data": {
            "text/html": [
              "<div>\n",
              "<style scoped>\n",
              "    .dataframe tbody tr th:only-of-type {\n",
              "        vertical-align: middle;\n",
              "    }\n",
              "\n",
              "    .dataframe tbody tr th {\n",
              "        vertical-align: top;\n",
              "    }\n",
              "\n",
              "    .dataframe thead th {\n",
              "        text-align: right;\n",
              "    }\n",
              "</style>\n",
              "<table border=\"1\" class=\"dataframe\">\n",
              "  <thead>\n",
              "    <tr style=\"text-align: right;\">\n",
              "      <th></th>\n",
              "      <th>item_name</th>\n",
              "      <th>item_id</th>\n",
              "      <th>item_category_id</th>\n",
              "      <th>item_name_first4</th>\n",
              "      <th>item_name_first6</th>\n",
              "      <th>item_name_first11</th>\n",
              "      <th>type_id</th>\n",
              "    </tr>\n",
              "  </thead>\n",
              "  <tbody>\n",
              "    <tr>\n",
              "      <th>574</th>\n",
              "      <td>1с образовательная коллекция домашни...</td>\n",
              "      <td>574</td>\n",
              "      <td>78</td>\n",
              "      <td>45</td>\n",
              "      <td>54</td>\n",
              "      <td>72</td>\n",
              "      <td>14</td>\n",
              "    </tr>\n",
              "    <tr>\n",
              "      <th>10136</th>\n",
              "      <td>высоцкий владимир  new sound  еще не...</td>\n",
              "      <td>10136</td>\n",
              "      <td>55</td>\n",
              "      <td>1688</td>\n",
              "      <td>2569</td>\n",
              "      <td>4481</td>\n",
              "      <td>12</td>\n",
              "    </tr>\n",
              "    <tr>\n",
              "      <th>17757</th>\n",
              "      <td>раба любви  rem</td>\n",
              "      <td>17757</td>\n",
              "      <td>40</td>\n",
              "      <td>3021</td>\n",
              "      <td>4697</td>\n",
              "      <td>8204</td>\n",
              "      <td>10</td>\n",
              "    </tr>\n",
              "    <tr>\n",
              "      <th>18686</th>\n",
              "      <td>сказка  приключения барона мюнгхаузена</td>\n",
              "      <td>18686</td>\n",
              "      <td>55</td>\n",
              "      <td>3288</td>\n",
              "      <td>5094</td>\n",
              "      <td>8830</td>\n",
              "      <td>12</td>\n",
              "    </tr>\n",
              "    <tr>\n",
              "      <th>14535</th>\n",
              "      <td>мемуары гейши  регион</td>\n",
              "      <td>14535</td>\n",
              "      <td>40</td>\n",
              "      <td>2479</td>\n",
              "      <td>3858</td>\n",
              "      <td>6824</td>\n",
              "      <td>10</td>\n",
              "    </tr>\n",
              "    <tr>\n",
              "      <th>11485</th>\n",
              "      <td>живая сталь   четвертый ночь страха ...</td>\n",
              "      <td>11485</td>\n",
              "      <td>41</td>\n",
              "      <td>1986</td>\n",
              "      <td>3019</td>\n",
              "      <td>5200</td>\n",
              "      <td>10</td>\n",
              "    </tr>\n",
              "    <tr>\n",
              "      <th>12512</th>\n",
              "      <td>классика  mozart wolfgang amadeus  c...</td>\n",
              "      <td>12512</td>\n",
              "      <td>55</td>\n",
              "      <td>2200</td>\n",
              "      <td>3390</td>\n",
              "      <td>5777</td>\n",
              "      <td>12</td>\n",
              "    </tr>\n",
              "    <tr>\n",
              "      <th>19519</th>\n",
              "      <td>т9  эхо  фирм</td>\n",
              "      <td>19519</td>\n",
              "      <td>55</td>\n",
              "      <td>3425</td>\n",
              "      <td>5326</td>\n",
              "      <td>9260</td>\n",
              "      <td>12</td>\n",
              "    </tr>\n",
              "    <tr>\n",
              "      <th>21231</th>\n",
              "      <td>футболка starcraft ii raynor черная</td>\n",
              "      <td>21231</td>\n",
              "      <td>61</td>\n",
              "      <td>3652</td>\n",
              "      <td>5656</td>\n",
              "      <td>9903</td>\n",
              "      <td>13</td>\n",
              "    </tr>\n",
              "    <tr>\n",
              "      <th>20001</th>\n",
              "      <td>трейси брайан  как управлять своим в...</td>\n",
              "      <td>20001</td>\n",
              "      <td>43</td>\n",
              "      <td>3512</td>\n",
              "      <td>5469</td>\n",
              "      <td>9469</td>\n",
              "      <td>11</td>\n",
              "    </tr>\n",
              "  </tbody>\n",
              "</table>\n",
              "</div>"
            ],
            "text/plain": [
              "                                     item_name  item_id  item_category_id  \\\n",
              "574    1с образовательная коллекция домашни...      574                78   \n",
              "10136  высоцкий владимир  new sound  еще не...    10136                55   \n",
              "17757                         раба любви  rem     17757                40   \n",
              "18686   сказка  приключения барона мюнгхаузена    18686                55   \n",
              "14535                   мемуары гейши  регион     14535                40   \n",
              "11485  живая сталь   четвертый ночь страха ...    11485                41   \n",
              "12512  классика  mozart wolfgang amadeus  c...    12512                55   \n",
              "19519                           т9  эхо  фирм     19519                55   \n",
              "21231    футболка starcraft ii raynor черная      21231                61   \n",
              "20001  трейси брайан  как управлять своим в...    20001                43   \n",
              "\n",
              "       item_name_first4  item_name_first6  item_name_first11  type_id  \n",
              "574                  45                54                 72       14  \n",
              "10136              1688              2569               4481       12  \n",
              "17757              3021              4697               8204       10  \n",
              "18686              3288              5094               8830       12  \n",
              "14535              2479              3858               6824       10  \n",
              "11485              1986              3019               5200       10  \n",
              "12512              2200              3390               5777       12  \n",
              "19519              3425              5326               9260       12  \n",
              "21231              3652              5656               9903       13  \n",
              "20001              3512              5469               9469       11  "
            ]
          },
          "metadata": {
            "tags": []
          },
          "execution_count": 18
        }
      ]
    },
    {
      "cell_type": "markdown",
      "metadata": {
        "id": "RciyWtAqQHE2"
      },
      "source": [
        "item data에서 중복행 제거"
      ]
    },
    {
      "cell_type": "code",
      "metadata": {
        "colab": {
          "base_uri": "https://localhost:8080/",
          "height": 404
        },
        "id": "oPwMPzgHQDVi",
        "outputId": "4847d8b6-ef8a-4ba8-ba51-8f769ac3c480"
      },
      "source": [
        "dupes = items[(items.duplicated(subset=['item_name','item_category_id'],keep=False))]\r\n",
        "dupes"
      ],
      "execution_count": 19,
      "outputs": [
        {
          "output_type": "execute_result",
          "data": {
            "text/html": [
              "<div>\n",
              "<style scoped>\n",
              "    .dataframe tbody tr th:only-of-type {\n",
              "        vertical-align: middle;\n",
              "    }\n",
              "\n",
              "    .dataframe tbody tr th {\n",
              "        vertical-align: top;\n",
              "    }\n",
              "\n",
              "    .dataframe thead th {\n",
              "        text-align: right;\n",
              "    }\n",
              "</style>\n",
              "<table border=\"1\" class=\"dataframe\">\n",
              "  <thead>\n",
              "    <tr style=\"text-align: right;\">\n",
              "      <th></th>\n",
              "      <th>item_name</th>\n",
              "      <th>item_id</th>\n",
              "      <th>item_category_id</th>\n",
              "      <th>item_name_first4</th>\n",
              "      <th>item_name_first6</th>\n",
              "      <th>item_name_first11</th>\n",
              "      <th>type_id</th>\n",
              "    </tr>\n",
              "  </thead>\n",
              "  <tbody>\n",
              "    <tr>\n",
              "      <th>32</th>\n",
              "      <td></td>\n",
              "      <td>32</td>\n",
              "      <td>40</td>\n",
              "      <td>0</td>\n",
              "      <td>0</td>\n",
              "      <td>0</td>\n",
              "      <td>10</td>\n",
              "    </tr>\n",
              "    <tr>\n",
              "      <th>126</th>\n",
              "      <td>1с аудиокниги  сказки выпуск     циф...</td>\n",
              "      <td>126</td>\n",
              "      <td>44</td>\n",
              "      <td>33</td>\n",
              "      <td>38</td>\n",
              "      <td>52</td>\n",
              "      <td>11</td>\n",
              "    </tr>\n",
              "    <tr>\n",
              "      <th>127</th>\n",
              "      <td>1с аудиокниги  сказки выпуск     циф...</td>\n",
              "      <td>127</td>\n",
              "      <td>44</td>\n",
              "      <td>33</td>\n",
              "      <td>38</td>\n",
              "      <td>52</td>\n",
              "      <td>11</td>\n",
              "    </tr>\n",
              "    <tr>\n",
              "      <th>128</th>\n",
              "      <td>1с аудиокниги  сказки выпуск     циф...</td>\n",
              "      <td>128</td>\n",
              "      <td>44</td>\n",
              "      <td>33</td>\n",
              "      <td>38</td>\n",
              "      <td>52</td>\n",
              "      <td>11</td>\n",
              "    </tr>\n",
              "    <tr>\n",
              "      <th>129</th>\n",
              "      <td>1с аудиокниги  сказки выпуск     циф...</td>\n",
              "      <td>129</td>\n",
              "      <td>44</td>\n",
              "      <td>33</td>\n",
              "      <td>38</td>\n",
              "      <td>52</td>\n",
              "      <td>11</td>\n",
              "    </tr>\n",
              "    <tr>\n",
              "      <th>...</th>\n",
              "      <td>...</td>\n",
              "      <td>...</td>\n",
              "      <td>...</td>\n",
              "      <td>...</td>\n",
              "      <td>...</td>\n",
              "      <td>...</td>\n",
              "      <td>...</td>\n",
              "    </tr>\n",
              "    <tr>\n",
              "      <th>22036</th>\n",
              "      <td>элвин   бурундуки    bd</td>\n",
              "      <td>22036</td>\n",
              "      <td>37</td>\n",
              "      <td>3832</td>\n",
              "      <td>5920</td>\n",
              "      <td>10302</td>\n",
              "      <td>10</td>\n",
              "    </tr>\n",
              "    <tr>\n",
              "      <th>22038</th>\n",
              "      <td>элвин   бурундуки</td>\n",
              "      <td>22038</td>\n",
              "      <td>40</td>\n",
              "      <td>3832</td>\n",
              "      <td>5920</td>\n",
              "      <td>10302</td>\n",
              "      <td>10</td>\n",
              "    </tr>\n",
              "    <tr>\n",
              "      <th>22039</th>\n",
              "      <td>элвин   бурундуки    bd</td>\n",
              "      <td>22039</td>\n",
              "      <td>37</td>\n",
              "      <td>3832</td>\n",
              "      <td>5920</td>\n",
              "      <td>10302</td>\n",
              "      <td>10</td>\n",
              "    </tr>\n",
              "    <tr>\n",
              "      <th>22111</th>\n",
              "      <td>юмор   сатира     рассказы русских п...</td>\n",
              "      <td>22111</td>\n",
              "      <td>43</td>\n",
              "      <td>3855</td>\n",
              "      <td>5947</td>\n",
              "      <td>10336</td>\n",
              "      <td>11</td>\n",
              "    </tr>\n",
              "    <tr>\n",
              "      <th>22112</th>\n",
              "      <td>юмор   сатира     рассказы русских п...</td>\n",
              "      <td>22112</td>\n",
              "      <td>43</td>\n",
              "      <td>3855</td>\n",
              "      <td>5947</td>\n",
              "      <td>10336</td>\n",
              "      <td>11</td>\n",
              "    </tr>\n",
              "  </tbody>\n",
              "</table>\n",
              "<p>1484 rows × 7 columns</p>\n",
              "</div>"
            ],
            "text/plain": [
              "                                     item_name  item_id  item_category_id  \\\n",
              "32                                                   32                40   \n",
              "126    1с аудиокниги  сказки выпуск     циф...      126                44   \n",
              "127    1с аудиокниги  сказки выпуск     циф...      127                44   \n",
              "128    1с аудиокниги  сказки выпуск     циф...      128                44   \n",
              "129    1с аудиокниги  сказки выпуск     циф...      129                44   \n",
              "...                                        ...      ...               ...   \n",
              "22036                 элвин   бурундуки    bd     22036                37   \n",
              "22038                      элвин   бурундуки      22038                40   \n",
              "22039                 элвин   бурундуки    bd     22039                37   \n",
              "22111  юмор   сатира     рассказы русских п...    22111                43   \n",
              "22112  юмор   сатира     рассказы русских п...    22112                43   \n",
              "\n",
              "       item_name_first4  item_name_first6  item_name_first11  type_id  \n",
              "32                    0                 0                  0       10  \n",
              "126                  33                38                 52       11  \n",
              "127                  33                38                 52       11  \n",
              "128                  33                38                 52       11  \n",
              "129                  33                38                 52       11  \n",
              "...                 ...               ...                ...      ...  \n",
              "22036              3832              5920              10302       10  \n",
              "22038              3832              5920              10302       10  \n",
              "22039              3832              5920              10302       10  \n",
              "22111              3855              5947              10336       11  \n",
              "22112              3855              5947              10336       11  \n",
              "\n",
              "[1484 rows x 7 columns]"
            ]
          },
          "metadata": {
            "tags": []
          },
          "execution_count": 19
        }
      ]
    },
    {
      "cell_type": "code",
      "metadata": {
        "id": "eLlAnhC0Ril4"
      },
      "source": [
        "#isin() : series나 dataframe 안에 요소가 isin()메서드에 입력된 데이터에 있는지 판별해줌\r\n",
        "dupes['in_test'] = dupes.item_id.isin(test.item_id.unique())\r\n",
        "dupes = dupes.groupby('item_name').agg({'item_id':['first','last'],'in_test':['first','last']})"
      ],
      "execution_count": 20,
      "outputs": []
    },
    {
      "cell_type": "code",
      "metadata": {
        "id": "oBx3ZglLRirY"
      },
      "source": [
        "#if both item id's are in the test set do nothing\r\n",
        "dupes = dupes[(dupes[('in_test', 'first')]==False) | (dupes[('in_test', 'last')]==False)]\r\n",
        "#if only the first id is in the test set assign this id to both\r\n",
        "temp = dupes[dupes[('in_test', 'first')]==True]\r\n",
        "keep_first = dict(zip(temp[('item_id', 'last')], temp[('item_id',  'first')]))\r\n",
        "#if neither id or only the second id is in the test set, assign the second id to both\r\n",
        "temp = dupes[dupes[('in_test', 'first')]==False]\r\n",
        "keep_second = dict(zip(temp[('item_id', 'first')], temp[('item_id',  'last')]))\r\n",
        "item_map = {**keep_first, **keep_second}"
      ],
      "execution_count": 21,
      "outputs": []
    },
    {
      "cell_type": "markdown",
      "metadata": {
        "id": "QnQfgKo7SEtl"
      },
      "source": [
        "sales data"
      ]
    },
    {
      "cell_type": "code",
      "metadata": {
        "id": "1TkCJvkTRiue"
      },
      "source": [
        "sales = (train\r\n",
        "    .query('0 < item_price < 50000 and 0 < item_cnt_day < 1001') #removing outliers\r\n",
        "    .replace({\r\n",
        "        'shop_id':{0:57, 1:58, 11:10}, #replacing obsolete shop id's\r\n",
        "        'item_id':item_map #fixing duplicate item id's  \r\n",
        "    })    \r\n",
        ")\r\n",
        "\r\n",
        "#removing shops which don't appear in the test set\r\n",
        "sales = sales[sales['shop_id'].isin(test.shop_id.unique())]\r\n",
        "\r\n",
        "sales['date'] = pd.to_datetime(sales.date,format='%d.%m.%Y')\r\n",
        "sales['weekday'] = sales.date.dt.dayofweek\r\n",
        "\r\n",
        "#first day the item was sold, day 0 is the first day of the training set period\r\n",
        "sales['first_sale_day'] = sales.date.dt.dayofyear \r\n",
        "sales['first_sale_day'] += 365 * (sales.date.dt.year-2013)\r\n",
        "sales['first_sale_day'] = sales.groupby('item_id')['first_sale_day'].transform('min').astype('int16')\r\n",
        "\r\n",
        "#revenue is needed to accurately calculate prices after grouping\r\n",
        "sales['revenue'] = sales['item_cnt_day']*sales['item_price']"
      ],
      "execution_count": 22,
      "outputs": []
    },
    {
      "cell_type": "code",
      "metadata": {
        "colab": {
          "base_uri": "https://localhost:8080/",
          "height": 494
        },
        "id": "M1ODu42iSi2a",
        "outputId": "fc2f3138-1557-481f-9a1d-915bc1159187"
      },
      "source": [
        "temp = sales.groupby(['shop_id','weekday']).agg({'item_cnt_day':'sum'}).reset_index()\r\n",
        "temp = pd.merge(temp, sales.groupby(['shop_id']).agg({'item_cnt_day':'sum'}).reset_index(), on='shop_id', how='left')\r\n",
        "temp.columns = ['shop_id','weekday', 'shop_day_sales', 'shop_total_sales']\r\n",
        "temp['day_quality'] = temp['shop_day_sales']/temp['shop_total_sales']\r\n",
        "temp = temp[['shop_id','weekday','day_quality']]\r\n",
        "\r\n",
        "dates = pd.DataFrame(data={'date':pd.date_range(start='2013-01-01',end='2015-11-30')})\r\n",
        "dates['weekday'] = dates.date.dt.dayofweek\r\n",
        "dates['month'] = dates.date.dt.month\r\n",
        "dates['year'] = dates.date.dt.year - 2013\r\n",
        "dates['date_block_num'] = dates['year']*12 + dates['month'] - 1\r\n",
        "dates['first_day_of_month'] = dates.date.dt.dayofyear\r\n",
        "dates['first_day_of_month'] += 365 * dates['year']\r\n",
        "dates = dates.join(temp.set_index('weekday'), on='weekday')\r\n",
        "dates = dates.groupby(['date_block_num','shop_id','month','year']).agg({'day_quality':'sum','first_day_of_month':'min'}).reset_index()\r\n",
        "\r\n",
        "dates.query('shop_id == 28').head(15)"
      ],
      "execution_count": 23,
      "outputs": [
        {
          "output_type": "execute_result",
          "data": {
            "text/html": [
              "<div>\n",
              "<style scoped>\n",
              "    .dataframe tbody tr th:only-of-type {\n",
              "        vertical-align: middle;\n",
              "    }\n",
              "\n",
              "    .dataframe tbody tr th {\n",
              "        vertical-align: top;\n",
              "    }\n",
              "\n",
              "    .dataframe thead th {\n",
              "        text-align: right;\n",
              "    }\n",
              "</style>\n",
              "<table border=\"1\" class=\"dataframe\">\n",
              "  <thead>\n",
              "    <tr style=\"text-align: right;\">\n",
              "      <th></th>\n",
              "      <th>date_block_num</th>\n",
              "      <th>shop_id</th>\n",
              "      <th>month</th>\n",
              "      <th>year</th>\n",
              "      <th>day_quality</th>\n",
              "      <th>first_day_of_month</th>\n",
              "    </tr>\n",
              "  </thead>\n",
              "  <tbody>\n",
              "    <tr>\n",
              "      <th>18</th>\n",
              "      <td>0</td>\n",
              "      <td>28</td>\n",
              "      <td>1</td>\n",
              "      <td>0</td>\n",
              "      <td>4.300037</td>\n",
              "      <td>1</td>\n",
              "    </tr>\n",
              "    <tr>\n",
              "      <th>60</th>\n",
              "      <td>1</td>\n",
              "      <td>28</td>\n",
              "      <td>2</td>\n",
              "      <td>0</td>\n",
              "      <td>4.000000</td>\n",
              "      <td>32</td>\n",
              "    </tr>\n",
              "    <tr>\n",
              "      <th>102</th>\n",
              "      <td>2</td>\n",
              "      <td>28</td>\n",
              "      <td>3</td>\n",
              "      <td>0</td>\n",
              "      <td>4.605952</td>\n",
              "      <td>60</td>\n",
              "    </tr>\n",
              "    <tr>\n",
              "      <th>144</th>\n",
              "      <td>3</td>\n",
              "      <td>28</td>\n",
              "      <td>4</td>\n",
              "      <td>0</td>\n",
              "      <td>4.193211</td>\n",
              "      <td>91</td>\n",
              "    </tr>\n",
              "    <tr>\n",
              "      <th>186</th>\n",
              "      <td>4</td>\n",
              "      <td>28</td>\n",
              "      <td>5</td>\n",
              "      <td>0</td>\n",
              "      <td>4.333970</td>\n",
              "      <td>121</td>\n",
              "    </tr>\n",
              "    <tr>\n",
              "      <th>228</th>\n",
              "      <td>5</td>\n",
              "      <td>28</td>\n",
              "      <td>6</td>\n",
              "      <td>0</td>\n",
              "      <td>4.472819</td>\n",
              "      <td>152</td>\n",
              "    </tr>\n",
              "    <tr>\n",
              "      <th>270</th>\n",
              "      <td>6</td>\n",
              "      <td>28</td>\n",
              "      <td>7</td>\n",
              "      <td>0</td>\n",
              "      <td>4.287644</td>\n",
              "      <td>182</td>\n",
              "    </tr>\n",
              "    <tr>\n",
              "      <th>312</th>\n",
              "      <td>7</td>\n",
              "      <td>28</td>\n",
              "      <td>8</td>\n",
              "      <td>0</td>\n",
              "      <td>4.492718</td>\n",
              "      <td>213</td>\n",
              "    </tr>\n",
              "    <tr>\n",
              "      <th>354</th>\n",
              "      <td>8</td>\n",
              "      <td>28</td>\n",
              "      <td>9</td>\n",
              "      <td>0</td>\n",
              "      <td>4.313648</td>\n",
              "      <td>244</td>\n",
              "    </tr>\n",
              "    <tr>\n",
              "      <th>396</th>\n",
              "      <td>9</td>\n",
              "      <td>28</td>\n",
              "      <td>10</td>\n",
              "      <td>0</td>\n",
              "      <td>4.300037</td>\n",
              "      <td>274</td>\n",
              "    </tr>\n",
              "    <tr>\n",
              "      <th>438</th>\n",
              "      <td>10</td>\n",
              "      <td>28</td>\n",
              "      <td>11</td>\n",
              "      <td>0</td>\n",
              "      <td>4.386314</td>\n",
              "      <td>305</td>\n",
              "    </tr>\n",
              "    <tr>\n",
              "      <th>480</th>\n",
              "      <td>11</td>\n",
              "      <td>28</td>\n",
              "      <td>12</td>\n",
              "      <td>0</td>\n",
              "      <td>4.412849</td>\n",
              "      <td>335</td>\n",
              "    </tr>\n",
              "    <tr>\n",
              "      <th>522</th>\n",
              "      <td>12</td>\n",
              "      <td>28</td>\n",
              "      <td>1</td>\n",
              "      <td>1</td>\n",
              "      <td>4.333970</td>\n",
              "      <td>366</td>\n",
              "    </tr>\n",
              "    <tr>\n",
              "      <th>564</th>\n",
              "      <td>13</td>\n",
              "      <td>28</td>\n",
              "      <td>2</td>\n",
              "      <td>1</td>\n",
              "      <td>4.000000</td>\n",
              "      <td>397</td>\n",
              "    </tr>\n",
              "    <tr>\n",
              "      <th>606</th>\n",
              "      <td>14</td>\n",
              "      <td>28</td>\n",
              "      <td>3</td>\n",
              "      <td>1</td>\n",
              "      <td>4.566829</td>\n",
              "      <td>425</td>\n",
              "    </tr>\n",
              "  </tbody>\n",
              "</table>\n",
              "</div>"
            ],
            "text/plain": [
              "     date_block_num  shop_id  month  year  day_quality  first_day_of_month\n",
              "18                0       28      1     0     4.300037                   1\n",
              "60                1       28      2     0     4.000000                  32\n",
              "102               2       28      3     0     4.605952                  60\n",
              "144               3       28      4     0     4.193211                  91\n",
              "186               4       28      5     0     4.333970                 121\n",
              "228               5       28      6     0     4.472819                 152\n",
              "270               6       28      7     0     4.287644                 182\n",
              "312               7       28      8     0     4.492718                 213\n",
              "354               8       28      9     0     4.313648                 244\n",
              "396               9       28     10     0     4.300037                 274\n",
              "438              10       28     11     0     4.386314                 305\n",
              "480              11       28     12     0     4.412849                 335\n",
              "522              12       28      1     1     4.333970                 366\n",
              "564              13       28      2     1     4.000000                 397\n",
              "606              14       28      3     1     4.566829                 425"
            ]
          },
          "metadata": {
            "tags": []
          },
          "execution_count": 23
        }
      ]
    },
    {
      "cell_type": "code",
      "metadata": {
        "colab": {
          "base_uri": "https://localhost:8080/",
          "height": 196
        },
        "id": "d9tV6FIwSi7b",
        "outputId": "ea06b43e-4506-41f8-ef03-c3484283adde"
      },
      "source": [
        "sales = (sales\r\n",
        "     .groupby(['date_block_num', 'shop_id', 'item_id'])\r\n",
        "     .agg({\r\n",
        "         'item_cnt_day':'sum', \r\n",
        "         'revenue':'sum',\r\n",
        "         'first_sale_day':'first'\r\n",
        "     })\r\n",
        "     .reset_index()\r\n",
        "     .rename(columns={'item_cnt_day':'item_cnt'})\r\n",
        ")\r\n",
        "sales.sample(5)"
      ],
      "execution_count": 24,
      "outputs": [
        {
          "output_type": "execute_result",
          "data": {
            "text/html": [
              "<div>\n",
              "<style scoped>\n",
              "    .dataframe tbody tr th:only-of-type {\n",
              "        vertical-align: middle;\n",
              "    }\n",
              "\n",
              "    .dataframe tbody tr th {\n",
              "        vertical-align: top;\n",
              "    }\n",
              "\n",
              "    .dataframe thead th {\n",
              "        text-align: right;\n",
              "    }\n",
              "</style>\n",
              "<table border=\"1\" class=\"dataframe\">\n",
              "  <thead>\n",
              "    <tr style=\"text-align: right;\">\n",
              "      <th></th>\n",
              "      <th>date_block_num</th>\n",
              "      <th>shop_id</th>\n",
              "      <th>item_id</th>\n",
              "      <th>item_cnt</th>\n",
              "      <th>revenue</th>\n",
              "      <th>first_sale_day</th>\n",
              "    </tr>\n",
              "  </thead>\n",
              "  <tbody>\n",
              "    <tr>\n",
              "      <th>814344</th>\n",
              "      <td>19</td>\n",
              "      <td>4</td>\n",
              "      <td>16956</td>\n",
              "      <td>3.0</td>\n",
              "      <td>1197.0</td>\n",
              "      <td>581</td>\n",
              "    </tr>\n",
              "    <tr>\n",
              "      <th>835898</th>\n",
              "      <td>19</td>\n",
              "      <td>41</td>\n",
              "      <td>7071</td>\n",
              "      <td>1.0</td>\n",
              "      <td>999.0</td>\n",
              "      <td>63</td>\n",
              "    </tr>\n",
              "    <tr>\n",
              "      <th>1261452</th>\n",
              "      <td>31</td>\n",
              "      <td>53</td>\n",
              "      <td>3342</td>\n",
              "      <td>4.0</td>\n",
              "      <td>6246.5</td>\n",
              "      <td>631</td>\n",
              "    </tr>\n",
              "    <tr>\n",
              "      <th>747369</th>\n",
              "      <td>17</td>\n",
              "      <td>19</td>\n",
              "      <td>16014</td>\n",
              "      <td>1.0</td>\n",
              "      <td>349.0</td>\n",
              "      <td>1</td>\n",
              "    </tr>\n",
              "    <tr>\n",
              "      <th>223414</th>\n",
              "      <td>4</td>\n",
              "      <td>56</td>\n",
              "      <td>6468</td>\n",
              "      <td>1.0</td>\n",
              "      <td>599.0</td>\n",
              "      <td>1</td>\n",
              "    </tr>\n",
              "  </tbody>\n",
              "</table>\n",
              "</div>"
            ],
            "text/plain": [
              "         date_block_num  shop_id  item_id  item_cnt  revenue  first_sale_day\n",
              "814344               19        4    16956       3.0   1197.0             581\n",
              "835898               19       41     7071       1.0    999.0              63\n",
              "1261452              31       53     3342       4.0   6246.5             631\n",
              "747369               17       19    16014       1.0    349.0               1\n",
              "223414                4       56     6468       1.0    599.0               1"
            ]
          },
          "metadata": {
            "tags": []
          },
          "execution_count": 24
        }
      ]
    },
    {
      "cell_type": "markdown",
      "metadata": {
        "id": "Q17K6CSwSrOx"
      },
      "source": [
        "constructing training dataframe"
      ]
    },
    {
      "cell_type": "code",
      "metadata": {
        "colab": {
          "base_uri": "https://localhost:8080/",
          "height": 196
        },
        "id": "XnQTnm01SjBI",
        "outputId": "b336f64b-93d0-49ef-f3c6-c713044bd172"
      },
      "source": [
        "df = [] \r\n",
        "for block_num in sales['date_block_num'].unique():\r\n",
        "    cur_shops = sales.loc[sales['date_block_num'] == block_num, 'shop_id'].unique()\r\n",
        "    cur_items = sales.loc[sales['date_block_num'] == block_num, 'item_id'].unique()\r\n",
        "    df.append(np.array(list(product(*[cur_shops, cur_items, [block_num]]))))\r\n",
        "\r\n",
        "df = pd.DataFrame(np.vstack(df), columns=['shop_id', 'item_id', 'date_block_num'])\r\n",
        "df.head()"
      ],
      "execution_count": 25,
      "outputs": [
        {
          "output_type": "execute_result",
          "data": {
            "text/html": [
              "<div>\n",
              "<style scoped>\n",
              "    .dataframe tbody tr th:only-of-type {\n",
              "        vertical-align: middle;\n",
              "    }\n",
              "\n",
              "    .dataframe tbody tr th {\n",
              "        vertical-align: top;\n",
              "    }\n",
              "\n",
              "    .dataframe thead th {\n",
              "        text-align: right;\n",
              "    }\n",
              "</style>\n",
              "<table border=\"1\" class=\"dataframe\">\n",
              "  <thead>\n",
              "    <tr style=\"text-align: right;\">\n",
              "      <th></th>\n",
              "      <th>shop_id</th>\n",
              "      <th>item_id</th>\n",
              "      <th>date_block_num</th>\n",
              "    </tr>\n",
              "  </thead>\n",
              "  <tbody>\n",
              "    <tr>\n",
              "      <th>0</th>\n",
              "      <td>2</td>\n",
              "      <td>27</td>\n",
              "      <td>0</td>\n",
              "    </tr>\n",
              "    <tr>\n",
              "      <th>1</th>\n",
              "      <td>2</td>\n",
              "      <td>33</td>\n",
              "      <td>0</td>\n",
              "    </tr>\n",
              "    <tr>\n",
              "      <th>2</th>\n",
              "      <td>2</td>\n",
              "      <td>317</td>\n",
              "      <td>0</td>\n",
              "    </tr>\n",
              "    <tr>\n",
              "      <th>3</th>\n",
              "      <td>2</td>\n",
              "      <td>438</td>\n",
              "      <td>0</td>\n",
              "    </tr>\n",
              "    <tr>\n",
              "      <th>4</th>\n",
              "      <td>2</td>\n",
              "      <td>473</td>\n",
              "      <td>0</td>\n",
              "    </tr>\n",
              "  </tbody>\n",
              "</table>\n",
              "</div>"
            ],
            "text/plain": [
              "   shop_id  item_id  date_block_num\n",
              "0        2       27               0\n",
              "1        2       33               0\n",
              "2        2      317               0\n",
              "3        2      438               0\n",
              "4        2      473               0"
            ]
          },
          "metadata": {
            "tags": []
          },
          "execution_count": 25
        }
      ]
    },
    {
      "cell_type": "code",
      "metadata": {
        "colab": {
          "base_uri": "https://localhost:8080/"
        },
        "id": "Ilx0_uidT57s",
        "outputId": "650ace11-264a-4208-ef62-36bc4ada06c8"
      },
      "source": [
        "test.columns"
      ],
      "execution_count": 26,
      "outputs": [
        {
          "output_type": "execute_result",
          "data": {
            "text/plain": [
              "Index(['shop_id', 'item_id'], dtype='object')"
            ]
          },
          "metadata": {
            "tags": []
          },
          "execution_count": 26
        }
      ]
    },
    {
      "cell_type": "code",
      "metadata": {
        "id": "wnG74I0eSv6a"
      },
      "source": [
        "#add the appropriate date_block_num value to the test set\r\n",
        "test['date_block_num'] = 34\r\n",
        "\r\n",
        "#append test set to training dataframe\r\n",
        "df = pd.concat([df,test]).fillna(0)\r\n",
        "df = df.reset_index()\r\n",
        "del df['index']"
      ],
      "execution_count": 27,
      "outputs": []
    },
    {
      "cell_type": "code",
      "metadata": {
        "colab": {
          "base_uri": "https://localhost:8080/",
          "height": 137
        },
        "id": "pMHKxtdQUV_K",
        "outputId": "4dfa15a0-7c56-470d-d41a-cf4543e5f797"
      },
      "source": [
        "items.head(3)"
      ],
      "execution_count": 28,
      "outputs": [
        {
          "output_type": "execute_result",
          "data": {
            "text/html": [
              "<div>\n",
              "<style scoped>\n",
              "    .dataframe tbody tr th:only-of-type {\n",
              "        vertical-align: middle;\n",
              "    }\n",
              "\n",
              "    .dataframe tbody tr th {\n",
              "        vertical-align: top;\n",
              "    }\n",
              "\n",
              "    .dataframe thead th {\n",
              "        text-align: right;\n",
              "    }\n",
              "</style>\n",
              "<table border=\"1\" class=\"dataframe\">\n",
              "  <thead>\n",
              "    <tr style=\"text-align: right;\">\n",
              "      <th></th>\n",
              "      <th>item_name</th>\n",
              "      <th>item_id</th>\n",
              "      <th>item_category_id</th>\n",
              "      <th>item_name_first4</th>\n",
              "      <th>item_name_first6</th>\n",
              "      <th>item_name_first11</th>\n",
              "      <th>type_id</th>\n",
              "    </tr>\n",
              "  </thead>\n",
              "  <tbody>\n",
              "    <tr>\n",
              "      <th>0</th>\n",
              "      <td>во власти наваждения  пласт       ...</td>\n",
              "      <td>0</td>\n",
              "      <td>40</td>\n",
              "      <td>1623</td>\n",
              "      <td>2463</td>\n",
              "      <td>4332</td>\n",
              "      <td>10</td>\n",
              "    </tr>\n",
              "    <tr>\n",
              "      <th>1</th>\n",
              "      <td>abbyy finereader 12 professional ed...</td>\n",
              "      <td>1</td>\n",
              "      <td>76</td>\n",
              "      <td>105</td>\n",
              "      <td>130</td>\n",
              "      <td>211</td>\n",
              "      <td>14</td>\n",
              "    </tr>\n",
              "    <tr>\n",
              "      <th>2</th>\n",
              "      <td>лучах славы    unv             ...</td>\n",
              "      <td>2</td>\n",
              "      <td>40</td>\n",
              "      <td>2409</td>\n",
              "      <td>3707</td>\n",
              "      <td>6553</td>\n",
              "      <td>10</td>\n",
              "    </tr>\n",
              "  </tbody>\n",
              "</table>\n",
              "</div>"
            ],
            "text/plain": [
              "                                 item_name  item_id  item_category_id  \\\n",
              "0    во власти наваждения  пласт       ...        0                40   \n",
              "1   abbyy finereader 12 professional ed...        1                76   \n",
              "2       лучах славы    unv             ...        2                40   \n",
              "\n",
              "   item_name_first4  item_name_first6  item_name_first11  type_id  \n",
              "0              1623              2463               4332       10  \n",
              "1               105               130                211       14  \n",
              "2              2409              3707               6553       10  "
            ]
          },
          "metadata": {
            "tags": []
          },
          "execution_count": 28
        }
      ]
    },
    {
      "cell_type": "code",
      "metadata": {
        "id": "dQ2SDH2ySv_h"
      },
      "source": [
        "#join sales and item inforamtion to the training dataframe\r\n",
        "df = pd.merge(df, sales, on=['shop_id', 'item_id', 'date_block_num'], how='left').fillna(0)\r\n",
        "df = pd.merge(df, dates, on=['date_block_num','shop_id'], how='left')\r\n",
        "df = pd.merge(df, items.drop(columns=['item_name']), on='item_id', how='left')"
      ],
      "execution_count": 29,
      "outputs": []
    },
    {
      "cell_type": "markdown",
      "metadata": {
        "id": "yuUPaRpFS1BF"
      },
      "source": [
        "adding shop information"
      ]
    },
    {
      "cell_type": "code",
      "metadata": {
        "colab": {
          "base_uri": "https://localhost:8080/",
          "height": 424
        },
        "id": "-jJg-8qfV0pl",
        "outputId": "0cbaa440-3e56-4f53-d795-cbeb0dd88417"
      },
      "source": [
        "df"
      ],
      "execution_count": 30,
      "outputs": [
        {
          "output_type": "execute_result",
          "data": {
            "text/html": [
              "<div>\n",
              "<style scoped>\n",
              "    .dataframe tbody tr th:only-of-type {\n",
              "        vertical-align: middle;\n",
              "    }\n",
              "\n",
              "    .dataframe tbody tr th {\n",
              "        vertical-align: top;\n",
              "    }\n",
              "\n",
              "    .dataframe thead th {\n",
              "        text-align: right;\n",
              "    }\n",
              "</style>\n",
              "<table border=\"1\" class=\"dataframe\">\n",
              "  <thead>\n",
              "    <tr style=\"text-align: right;\">\n",
              "      <th></th>\n",
              "      <th>shop_id</th>\n",
              "      <th>item_id</th>\n",
              "      <th>date_block_num</th>\n",
              "      <th>item_cnt</th>\n",
              "      <th>revenue</th>\n",
              "      <th>first_sale_day</th>\n",
              "      <th>month</th>\n",
              "      <th>year</th>\n",
              "      <th>day_quality</th>\n",
              "      <th>first_day_of_month</th>\n",
              "      <th>item_category_id</th>\n",
              "      <th>item_name_first4</th>\n",
              "      <th>item_name_first6</th>\n",
              "      <th>item_name_first11</th>\n",
              "      <th>type_id</th>\n",
              "    </tr>\n",
              "  </thead>\n",
              "  <tbody>\n",
              "    <tr>\n",
              "      <th>0</th>\n",
              "      <td>2</td>\n",
              "      <td>27</td>\n",
              "      <td>0</td>\n",
              "      <td>1.0</td>\n",
              "      <td>2499.0</td>\n",
              "      <td>2.0</td>\n",
              "      <td>1</td>\n",
              "      <td>0</td>\n",
              "      <td>4.381749</td>\n",
              "      <td>1</td>\n",
              "      <td>19</td>\n",
              "      <td>1</td>\n",
              "      <td>1</td>\n",
              "      <td>1</td>\n",
              "      <td>5</td>\n",
              "    </tr>\n",
              "    <tr>\n",
              "      <th>1</th>\n",
              "      <td>2</td>\n",
              "      <td>33</td>\n",
              "      <td>0</td>\n",
              "      <td>1.0</td>\n",
              "      <td>499.0</td>\n",
              "      <td>2.0</td>\n",
              "      <td>1</td>\n",
              "      <td>0</td>\n",
              "      <td>4.381749</td>\n",
              "      <td>1</td>\n",
              "      <td>37</td>\n",
              "      <td>187</td>\n",
              "      <td>249</td>\n",
              "      <td>414</td>\n",
              "      <td>10</td>\n",
              "    </tr>\n",
              "    <tr>\n",
              "      <th>2</th>\n",
              "      <td>2</td>\n",
              "      <td>317</td>\n",
              "      <td>0</td>\n",
              "      <td>1.0</td>\n",
              "      <td>299.0</td>\n",
              "      <td>4.0</td>\n",
              "      <td>1</td>\n",
              "      <td>0</td>\n",
              "      <td>4.381749</td>\n",
              "      <td>1</td>\n",
              "      <td>45</td>\n",
              "      <td>33</td>\n",
              "      <td>38</td>\n",
              "      <td>52</td>\n",
              "      <td>11</td>\n",
              "    </tr>\n",
              "    <tr>\n",
              "      <th>3</th>\n",
              "      <td>2</td>\n",
              "      <td>438</td>\n",
              "      <td>0</td>\n",
              "      <td>1.0</td>\n",
              "      <td>299.0</td>\n",
              "      <td>19.0</td>\n",
              "      <td>1</td>\n",
              "      <td>0</td>\n",
              "      <td>4.381749</td>\n",
              "      <td>1</td>\n",
              "      <td>45</td>\n",
              "      <td>33</td>\n",
              "      <td>38</td>\n",
              "      <td>54</td>\n",
              "      <td>11</td>\n",
              "    </tr>\n",
              "    <tr>\n",
              "      <th>4</th>\n",
              "      <td>2</td>\n",
              "      <td>473</td>\n",
              "      <td>0</td>\n",
              "      <td>2.0</td>\n",
              "      <td>798.0</td>\n",
              "      <td>3.0</td>\n",
              "      <td>1</td>\n",
              "      <td>0</td>\n",
              "      <td>4.381749</td>\n",
              "      <td>1</td>\n",
              "      <td>49</td>\n",
              "      <td>35</td>\n",
              "      <td>43</td>\n",
              "      <td>59</td>\n",
              "      <td>11</td>\n",
              "    </tr>\n",
              "    <tr>\n",
              "      <th>...</th>\n",
              "      <td>...</td>\n",
              "      <td>...</td>\n",
              "      <td>...</td>\n",
              "      <td>...</td>\n",
              "      <td>...</td>\n",
              "      <td>...</td>\n",
              "      <td>...</td>\n",
              "      <td>...</td>\n",
              "      <td>...</td>\n",
              "      <td>...</td>\n",
              "      <td>...</td>\n",
              "      <td>...</td>\n",
              "      <td>...</td>\n",
              "      <td>...</td>\n",
              "      <td>...</td>\n",
              "    </tr>\n",
              "    <tr>\n",
              "      <th>8756434</th>\n",
              "      <td>45</td>\n",
              "      <td>18454</td>\n",
              "      <td>34</td>\n",
              "      <td>0.0</td>\n",
              "      <td>0.0</td>\n",
              "      <td>0.0</td>\n",
              "      <td>11</td>\n",
              "      <td>2</td>\n",
              "      <td>4.288065</td>\n",
              "      <td>1035</td>\n",
              "      <td>55</td>\n",
              "      <td>3230</td>\n",
              "      <td>5005</td>\n",
              "      <td>8681</td>\n",
              "      <td>12</td>\n",
              "    </tr>\n",
              "    <tr>\n",
              "      <th>8756435</th>\n",
              "      <td>45</td>\n",
              "      <td>16188</td>\n",
              "      <td>34</td>\n",
              "      <td>0.0</td>\n",
              "      <td>0.0</td>\n",
              "      <td>0.0</td>\n",
              "      <td>11</td>\n",
              "      <td>2</td>\n",
              "      <td>4.288065</td>\n",
              "      <td>1035</td>\n",
              "      <td>64</td>\n",
              "      <td>2622</td>\n",
              "      <td>4079</td>\n",
              "      <td>7191</td>\n",
              "      <td>13</td>\n",
              "    </tr>\n",
              "    <tr>\n",
              "      <th>8756436</th>\n",
              "      <td>45</td>\n",
              "      <td>15757</td>\n",
              "      <td>34</td>\n",
              "      <td>0.0</td>\n",
              "      <td>0.0</td>\n",
              "      <td>0.0</td>\n",
              "      <td>11</td>\n",
              "      <td>2</td>\n",
              "      <td>4.288065</td>\n",
              "      <td>1035</td>\n",
              "      <td>55</td>\n",
              "      <td>2693</td>\n",
              "      <td>4180</td>\n",
              "      <td>7335</td>\n",
              "      <td>12</td>\n",
              "    </tr>\n",
              "    <tr>\n",
              "      <th>8756437</th>\n",
              "      <td>45</td>\n",
              "      <td>19648</td>\n",
              "      <td>34</td>\n",
              "      <td>0.0</td>\n",
              "      <td>0.0</td>\n",
              "      <td>0.0</td>\n",
              "      <td>11</td>\n",
              "      <td>2</td>\n",
              "      <td>4.288065</td>\n",
              "      <td>1035</td>\n",
              "      <td>40</td>\n",
              "      <td>3465</td>\n",
              "      <td>5407</td>\n",
              "      <td>9365</td>\n",
              "      <td>10</td>\n",
              "    </tr>\n",
              "    <tr>\n",
              "      <th>8756438</th>\n",
              "      <td>45</td>\n",
              "      <td>969</td>\n",
              "      <td>34</td>\n",
              "      <td>0.0</td>\n",
              "      <td>0.0</td>\n",
              "      <td>0.0</td>\n",
              "      <td>11</td>\n",
              "      <td>2</td>\n",
              "      <td>4.288065</td>\n",
              "      <td>1035</td>\n",
              "      <td>37</td>\n",
              "      <td>1891</td>\n",
              "      <td>2886</td>\n",
              "      <td>4991</td>\n",
              "      <td>10</td>\n",
              "    </tr>\n",
              "  </tbody>\n",
              "</table>\n",
              "<p>8756439 rows × 15 columns</p>\n",
              "</div>"
            ],
            "text/plain": [
              "         shop_id  item_id  date_block_num  item_cnt  revenue  first_sale_day  \\\n",
              "0              2       27               0       1.0   2499.0             2.0   \n",
              "1              2       33               0       1.0    499.0             2.0   \n",
              "2              2      317               0       1.0    299.0             4.0   \n",
              "3              2      438               0       1.0    299.0            19.0   \n",
              "4              2      473               0       2.0    798.0             3.0   \n",
              "...          ...      ...             ...       ...      ...             ...   \n",
              "8756434       45    18454              34       0.0      0.0             0.0   \n",
              "8756435       45    16188              34       0.0      0.0             0.0   \n",
              "8756436       45    15757              34       0.0      0.0             0.0   \n",
              "8756437       45    19648              34       0.0      0.0             0.0   \n",
              "8756438       45      969              34       0.0      0.0             0.0   \n",
              "\n",
              "         month  year  day_quality  first_day_of_month  item_category_id  \\\n",
              "0            1     0     4.381749                   1                19   \n",
              "1            1     0     4.381749                   1                37   \n",
              "2            1     0     4.381749                   1                45   \n",
              "3            1     0     4.381749                   1                45   \n",
              "4            1     0     4.381749                   1                49   \n",
              "...        ...   ...          ...                 ...               ...   \n",
              "8756434     11     2     4.288065                1035                55   \n",
              "8756435     11     2     4.288065                1035                64   \n",
              "8756436     11     2     4.288065                1035                55   \n",
              "8756437     11     2     4.288065                1035                40   \n",
              "8756438     11     2     4.288065                1035                37   \n",
              "\n",
              "         item_name_first4  item_name_first6  item_name_first11  type_id  \n",
              "0                       1                 1                  1        5  \n",
              "1                     187               249                414       10  \n",
              "2                      33                38                 52       11  \n",
              "3                      33                38                 54       11  \n",
              "4                      35                43                 59       11  \n",
              "...                   ...               ...                ...      ...  \n",
              "8756434              3230              5005               8681       12  \n",
              "8756435              2622              4079               7191       13  \n",
              "8756436              2693              4180               7335       12  \n",
              "8756437              3465              5407               9365       10  \n",
              "8756438              1891              2886               4991       10  \n",
              "\n",
              "[8756439 rows x 15 columns]"
            ]
          },
          "metadata": {
            "tags": []
          },
          "execution_count": 30
        }
      ]
    },
    {
      "cell_type": "code",
      "metadata": {
        "id": "G1Jl49jRSwDP"
      },
      "source": [
        "#clustering shops\r\n",
        "shops_cats = pd.DataFrame(\r\n",
        "    np.array(list(product(*[df['shop_id'].unique(), df['item_category_id'].unique()]))),\r\n",
        "    columns =['shop_id', 'item_category_id']\r\n",
        ")\r\n",
        "temp = df.groupby(['item_category_id', 'shop_id']).agg({'item_cnt':'sum'}).reset_index()\r\n",
        "temp2 = temp.groupby('shop_id').agg({'item_cnt':'sum'}).rename(columns={'item_cnt':'shop_total'})\r\n",
        "temp = temp.join(temp2, on='shop_id')\r\n",
        "temp['category_proportion'] = temp['item_cnt']/temp['shop_total']\r\n",
        "temp = temp[['shop_id', 'item_category_id', 'category_proportion']]\r\n",
        "shops_cats = pd.merge(shops_cats, temp, on=['shop_id','item_category_id'], how='left')\r\n",
        "shops_cats = shops_cats.fillna(0)\r\n",
        "\r\n",
        "shops_cats = shops_cats.pivot(index='shop_id', columns=['item_category_id'])\r\n",
        "kmeans = KMeans(n_clusters=7, random_state=0).fit(shops_cats)\r\n",
        "shops_cats['shop_cluster'] = kmeans.labels_.astype('int8')\r\n",
        "\r\n",
        "#adding these clusters to the shops dataframe\r\n",
        "shops = shops.join(shops_cats['shop_cluster'], on='shop_id')"
      ],
      "execution_count": 31,
      "outputs": []
    },
    {
      "cell_type": "code",
      "metadata": {
        "colab": {
          "base_uri": "https://localhost:8080/",
          "height": 196
        },
        "id": "actNX26JS51V",
        "outputId": "1b0692c3-d063-4dc7-bad0-f56cadccc62e"
      },
      "source": [
        "#removing unused shop ids\r\n",
        "shops.dropna(inplace=True)\r\n",
        "\r\n",
        "#cleaning the name column\r\n",
        "shops['shop_name'] = shops['shop_name'].str.lower()\r\n",
        "shops['shop_name'] = shops['shop_name'].str.replace(r'[^\\w\\d\\s]', ' ')\r\n",
        "\r\n",
        "#creating a column for the type of shop\r\n",
        "shops['shop_type'] = 'regular'\r\n",
        "\r\n",
        "#there is some overlap in tc and mall, mall is given precedence\r\n",
        "shops.loc[shops['shop_name'].str.contains(r'tc'), 'shop_type'] = 'tc'\r\n",
        "shops.loc[shops['shop_name'].str.contains(r'mall|center|mega'), 'shop_type'] = 'mall'\r\n",
        "shops.loc[shops['shop_id'].isin([9,20]), 'shop_type'] = 'special'\r\n",
        "shops.loc[shops['shop_id'].isin([12,55]), 'shop_type'] = 'online'\r\n",
        "\r\n",
        "#the first word of shop name is largely sufficient as a city feature\r\n",
        "shops['shop_city'] = shops['shop_name'].str.split().str[0]\r\n",
        "shops.loc[shops['shop_id'].isin([12,55]), 'shop_city'] = 'online'\r\n",
        "shops.shop_city = le.fit_transform(shops.shop_city.values)\r\n",
        "shops.shop_type = le.fit_transform(shops.shop_type.values)\r\n",
        "shops.head()"
      ],
      "execution_count": 32,
      "outputs": [
        {
          "output_type": "execute_result",
          "data": {
            "text/html": [
              "<div>\n",
              "<style scoped>\n",
              "    .dataframe tbody tr th:only-of-type {\n",
              "        vertical-align: middle;\n",
              "    }\n",
              "\n",
              "    .dataframe tbody tr th {\n",
              "        vertical-align: top;\n",
              "    }\n",
              "\n",
              "    .dataframe thead th {\n",
              "        text-align: right;\n",
              "    }\n",
              "</style>\n",
              "<table border=\"1\" class=\"dataframe\">\n",
              "  <thead>\n",
              "    <tr style=\"text-align: right;\">\n",
              "      <th></th>\n",
              "      <th>shop_name</th>\n",
              "      <th>shop_id</th>\n",
              "      <th>shop_cluster</th>\n",
              "      <th>shop_type</th>\n",
              "      <th>shop_city</th>\n",
              "    </tr>\n",
              "  </thead>\n",
              "  <tbody>\n",
              "    <tr>\n",
              "      <th>2</th>\n",
              "      <td>адыгея тц  мега</td>\n",
              "      <td>2</td>\n",
              "      <td>4.0</td>\n",
              "      <td>1</td>\n",
              "      <td>1</td>\n",
              "    </tr>\n",
              "    <tr>\n",
              "      <th>3</th>\n",
              "      <td>балашиха трк  октябрь киномир</td>\n",
              "      <td>3</td>\n",
              "      <td>0.0</td>\n",
              "      <td>1</td>\n",
              "      <td>2</td>\n",
              "    </tr>\n",
              "    <tr>\n",
              "      <th>4</th>\n",
              "      <td>волжский тц  волга молл</td>\n",
              "      <td>4</td>\n",
              "      <td>0.0</td>\n",
              "      <td>1</td>\n",
              "      <td>3</td>\n",
              "    </tr>\n",
              "    <tr>\n",
              "      <th>5</th>\n",
              "      <td>вологда трц  мармелад</td>\n",
              "      <td>5</td>\n",
              "      <td>0.0</td>\n",
              "      <td>1</td>\n",
              "      <td>4</td>\n",
              "    </tr>\n",
              "    <tr>\n",
              "      <th>6</th>\n",
              "      <td>воронеж  плехановская  13</td>\n",
              "      <td>6</td>\n",
              "      <td>0.0</td>\n",
              "      <td>1</td>\n",
              "      <td>5</td>\n",
              "    </tr>\n",
              "  </tbody>\n",
              "</table>\n",
              "</div>"
            ],
            "text/plain": [
              "                        shop_name  shop_id  shop_cluster  shop_type  shop_city\n",
              "2                адыгея тц  мега         2           4.0          1          1\n",
              "3  балашиха трк  октябрь киномир         3           0.0          1          2\n",
              "4        волжский тц  волга молл         4           0.0          1          3\n",
              "5          вологда трц  мармелад         5           0.0          1          4\n",
              "6      воронеж  плехановская  13         6           0.0          1          5"
            ]
          },
          "metadata": {
            "tags": []
          },
          "execution_count": 32
        }
      ]
    },
    {
      "cell_type": "code",
      "metadata": {
        "colab": {
          "base_uri": "https://localhost:8080/",
          "height": 216
        },
        "id": "HwbLzPM5S58I",
        "outputId": "46758ee1-e384-4520-a1ba-4ae0a28ef1bd"
      },
      "source": [
        "df = pd.merge(df, shops.drop(columns='shop_name'), on='shop_id', how='left')\r\n",
        "df.head()"
      ],
      "execution_count": 33,
      "outputs": [
        {
          "output_type": "execute_result",
          "data": {
            "text/html": [
              "<div>\n",
              "<style scoped>\n",
              "    .dataframe tbody tr th:only-of-type {\n",
              "        vertical-align: middle;\n",
              "    }\n",
              "\n",
              "    .dataframe tbody tr th {\n",
              "        vertical-align: top;\n",
              "    }\n",
              "\n",
              "    .dataframe thead th {\n",
              "        text-align: right;\n",
              "    }\n",
              "</style>\n",
              "<table border=\"1\" class=\"dataframe\">\n",
              "  <thead>\n",
              "    <tr style=\"text-align: right;\">\n",
              "      <th></th>\n",
              "      <th>shop_id</th>\n",
              "      <th>item_id</th>\n",
              "      <th>date_block_num</th>\n",
              "      <th>item_cnt</th>\n",
              "      <th>revenue</th>\n",
              "      <th>first_sale_day</th>\n",
              "      <th>month</th>\n",
              "      <th>year</th>\n",
              "      <th>day_quality</th>\n",
              "      <th>first_day_of_month</th>\n",
              "      <th>item_category_id</th>\n",
              "      <th>item_name_first4</th>\n",
              "      <th>item_name_first6</th>\n",
              "      <th>item_name_first11</th>\n",
              "      <th>type_id</th>\n",
              "      <th>shop_cluster</th>\n",
              "      <th>shop_type</th>\n",
              "      <th>shop_city</th>\n",
              "    </tr>\n",
              "  </thead>\n",
              "  <tbody>\n",
              "    <tr>\n",
              "      <th>0</th>\n",
              "      <td>2</td>\n",
              "      <td>27</td>\n",
              "      <td>0</td>\n",
              "      <td>1.0</td>\n",
              "      <td>2499.0</td>\n",
              "      <td>2.0</td>\n",
              "      <td>1</td>\n",
              "      <td>0</td>\n",
              "      <td>4.381749</td>\n",
              "      <td>1</td>\n",
              "      <td>19</td>\n",
              "      <td>1</td>\n",
              "      <td>1</td>\n",
              "      <td>1</td>\n",
              "      <td>5</td>\n",
              "      <td>4.0</td>\n",
              "      <td>1</td>\n",
              "      <td>1</td>\n",
              "    </tr>\n",
              "    <tr>\n",
              "      <th>1</th>\n",
              "      <td>2</td>\n",
              "      <td>33</td>\n",
              "      <td>0</td>\n",
              "      <td>1.0</td>\n",
              "      <td>499.0</td>\n",
              "      <td>2.0</td>\n",
              "      <td>1</td>\n",
              "      <td>0</td>\n",
              "      <td>4.381749</td>\n",
              "      <td>1</td>\n",
              "      <td>37</td>\n",
              "      <td>187</td>\n",
              "      <td>249</td>\n",
              "      <td>414</td>\n",
              "      <td>10</td>\n",
              "      <td>4.0</td>\n",
              "      <td>1</td>\n",
              "      <td>1</td>\n",
              "    </tr>\n",
              "    <tr>\n",
              "      <th>2</th>\n",
              "      <td>2</td>\n",
              "      <td>317</td>\n",
              "      <td>0</td>\n",
              "      <td>1.0</td>\n",
              "      <td>299.0</td>\n",
              "      <td>4.0</td>\n",
              "      <td>1</td>\n",
              "      <td>0</td>\n",
              "      <td>4.381749</td>\n",
              "      <td>1</td>\n",
              "      <td>45</td>\n",
              "      <td>33</td>\n",
              "      <td>38</td>\n",
              "      <td>52</td>\n",
              "      <td>11</td>\n",
              "      <td>4.0</td>\n",
              "      <td>1</td>\n",
              "      <td>1</td>\n",
              "    </tr>\n",
              "    <tr>\n",
              "      <th>3</th>\n",
              "      <td>2</td>\n",
              "      <td>438</td>\n",
              "      <td>0</td>\n",
              "      <td>1.0</td>\n",
              "      <td>299.0</td>\n",
              "      <td>19.0</td>\n",
              "      <td>1</td>\n",
              "      <td>0</td>\n",
              "      <td>4.381749</td>\n",
              "      <td>1</td>\n",
              "      <td>45</td>\n",
              "      <td>33</td>\n",
              "      <td>38</td>\n",
              "      <td>54</td>\n",
              "      <td>11</td>\n",
              "      <td>4.0</td>\n",
              "      <td>1</td>\n",
              "      <td>1</td>\n",
              "    </tr>\n",
              "    <tr>\n",
              "      <th>4</th>\n",
              "      <td>2</td>\n",
              "      <td>473</td>\n",
              "      <td>0</td>\n",
              "      <td>2.0</td>\n",
              "      <td>798.0</td>\n",
              "      <td>3.0</td>\n",
              "      <td>1</td>\n",
              "      <td>0</td>\n",
              "      <td>4.381749</td>\n",
              "      <td>1</td>\n",
              "      <td>49</td>\n",
              "      <td>35</td>\n",
              "      <td>43</td>\n",
              "      <td>59</td>\n",
              "      <td>11</td>\n",
              "      <td>4.0</td>\n",
              "      <td>1</td>\n",
              "      <td>1</td>\n",
              "    </tr>\n",
              "  </tbody>\n",
              "</table>\n",
              "</div>"
            ],
            "text/plain": [
              "   shop_id  item_id  date_block_num  item_cnt  revenue  first_sale_day  month  \\\n",
              "0        2       27               0       1.0   2499.0             2.0      1   \n",
              "1        2       33               0       1.0    499.0             2.0      1   \n",
              "2        2      317               0       1.0    299.0             4.0      1   \n",
              "3        2      438               0       1.0    299.0            19.0      1   \n",
              "4        2      473               0       2.0    798.0             3.0      1   \n",
              "\n",
              "   year  day_quality  first_day_of_month  item_category_id  item_name_first4  \\\n",
              "0     0     4.381749                   1                19                 1   \n",
              "1     0     4.381749                   1                37               187   \n",
              "2     0     4.381749                   1                45                33   \n",
              "3     0     4.381749                   1                45                33   \n",
              "4     0     4.381749                   1                49                35   \n",
              "\n",
              "   item_name_first6  item_name_first11  type_id  shop_cluster  shop_type  \\\n",
              "0                 1                  1        5           4.0          1   \n",
              "1               249                414       10           4.0          1   \n",
              "2                38                 52       11           4.0          1   \n",
              "3                38                 54       11           4.0          1   \n",
              "4                43                 59       11           4.0          1   \n",
              "\n",
              "   shop_city  \n",
              "0          1  \n",
              "1          1  \n",
              "2          1  \n",
              "3          1  \n",
              "4          1  "
            ]
          },
          "metadata": {
            "tags": []
          },
          "execution_count": 33
        }
      ]
    },
    {
      "cell_type": "markdown",
      "metadata": {
        "id": "3iHb7l44hSnZ"
      },
      "source": [
        "Ages & Aggregating sales/price information"
      ]
    },
    {
      "cell_type": "code",
      "metadata": {
        "id": "y2mCvYT9hRAD"
      },
      "source": [
        "df['first_sale_day'] = df.groupby('item_id')['first_sale_day'].transform('max').astype('int16')\r\n",
        "df.loc[df['first_sale_day']==0, 'first_sale_day'] = 1035\r\n",
        "df['prev_days_on_sale'] = [max(idx) for idx in zip(df['first_day_of_month']-df['first_sale_day'],[0]*len(df))]\r\n",
        "del df['first_day_of_month']"
      ],
      "execution_count": 34,
      "outputs": []
    },
    {
      "cell_type": "code",
      "metadata": {
        "colab": {
          "base_uri": "https://localhost:8080/",
          "height": 216
        },
        "id": "vBx1-Uky_Oqe",
        "outputId": "463ade9e-31bc-4151-9b27-c1f524a72fe6"
      },
      "source": [
        "#freeing RAM, removing unneeded columns and encoding object columns\r\n",
        "del sales, categ, shops, shops_cats, temp, temp2, test, dupes, item_map, \r\n",
        "df.head()"
      ],
      "execution_count": 35,
      "outputs": [
        {
          "output_type": "execute_result",
          "data": {
            "text/html": [
              "<div>\n",
              "<style scoped>\n",
              "    .dataframe tbody tr th:only-of-type {\n",
              "        vertical-align: middle;\n",
              "    }\n",
              "\n",
              "    .dataframe tbody tr th {\n",
              "        vertical-align: top;\n",
              "    }\n",
              "\n",
              "    .dataframe thead th {\n",
              "        text-align: right;\n",
              "    }\n",
              "</style>\n",
              "<table border=\"1\" class=\"dataframe\">\n",
              "  <thead>\n",
              "    <tr style=\"text-align: right;\">\n",
              "      <th></th>\n",
              "      <th>shop_id</th>\n",
              "      <th>item_id</th>\n",
              "      <th>date_block_num</th>\n",
              "      <th>item_cnt</th>\n",
              "      <th>revenue</th>\n",
              "      <th>first_sale_day</th>\n",
              "      <th>month</th>\n",
              "      <th>year</th>\n",
              "      <th>day_quality</th>\n",
              "      <th>item_category_id</th>\n",
              "      <th>item_name_first4</th>\n",
              "      <th>item_name_first6</th>\n",
              "      <th>item_name_first11</th>\n",
              "      <th>type_id</th>\n",
              "      <th>shop_cluster</th>\n",
              "      <th>shop_type</th>\n",
              "      <th>shop_city</th>\n",
              "      <th>prev_days_on_sale</th>\n",
              "    </tr>\n",
              "  </thead>\n",
              "  <tbody>\n",
              "    <tr>\n",
              "      <th>0</th>\n",
              "      <td>2</td>\n",
              "      <td>27</td>\n",
              "      <td>0</td>\n",
              "      <td>1.0</td>\n",
              "      <td>2499.0</td>\n",
              "      <td>2</td>\n",
              "      <td>1</td>\n",
              "      <td>0</td>\n",
              "      <td>4.381749</td>\n",
              "      <td>19</td>\n",
              "      <td>1</td>\n",
              "      <td>1</td>\n",
              "      <td>1</td>\n",
              "      <td>5</td>\n",
              "      <td>4.0</td>\n",
              "      <td>1</td>\n",
              "      <td>1</td>\n",
              "      <td>0</td>\n",
              "    </tr>\n",
              "    <tr>\n",
              "      <th>1</th>\n",
              "      <td>2</td>\n",
              "      <td>33</td>\n",
              "      <td>0</td>\n",
              "      <td>1.0</td>\n",
              "      <td>499.0</td>\n",
              "      <td>2</td>\n",
              "      <td>1</td>\n",
              "      <td>0</td>\n",
              "      <td>4.381749</td>\n",
              "      <td>37</td>\n",
              "      <td>187</td>\n",
              "      <td>249</td>\n",
              "      <td>414</td>\n",
              "      <td>10</td>\n",
              "      <td>4.0</td>\n",
              "      <td>1</td>\n",
              "      <td>1</td>\n",
              "      <td>0</td>\n",
              "    </tr>\n",
              "    <tr>\n",
              "      <th>2</th>\n",
              "      <td>2</td>\n",
              "      <td>317</td>\n",
              "      <td>0</td>\n",
              "      <td>1.0</td>\n",
              "      <td>299.0</td>\n",
              "      <td>4</td>\n",
              "      <td>1</td>\n",
              "      <td>0</td>\n",
              "      <td>4.381749</td>\n",
              "      <td>45</td>\n",
              "      <td>33</td>\n",
              "      <td>38</td>\n",
              "      <td>52</td>\n",
              "      <td>11</td>\n",
              "      <td>4.0</td>\n",
              "      <td>1</td>\n",
              "      <td>1</td>\n",
              "      <td>0</td>\n",
              "    </tr>\n",
              "    <tr>\n",
              "      <th>3</th>\n",
              "      <td>2</td>\n",
              "      <td>438</td>\n",
              "      <td>0</td>\n",
              "      <td>1.0</td>\n",
              "      <td>299.0</td>\n",
              "      <td>19</td>\n",
              "      <td>1</td>\n",
              "      <td>0</td>\n",
              "      <td>4.381749</td>\n",
              "      <td>45</td>\n",
              "      <td>33</td>\n",
              "      <td>38</td>\n",
              "      <td>54</td>\n",
              "      <td>11</td>\n",
              "      <td>4.0</td>\n",
              "      <td>1</td>\n",
              "      <td>1</td>\n",
              "      <td>0</td>\n",
              "    </tr>\n",
              "    <tr>\n",
              "      <th>4</th>\n",
              "      <td>2</td>\n",
              "      <td>473</td>\n",
              "      <td>0</td>\n",
              "      <td>2.0</td>\n",
              "      <td>798.0</td>\n",
              "      <td>3</td>\n",
              "      <td>1</td>\n",
              "      <td>0</td>\n",
              "      <td>4.381749</td>\n",
              "      <td>49</td>\n",
              "      <td>35</td>\n",
              "      <td>43</td>\n",
              "      <td>59</td>\n",
              "      <td>11</td>\n",
              "      <td>4.0</td>\n",
              "      <td>1</td>\n",
              "      <td>1</td>\n",
              "      <td>0</td>\n",
              "    </tr>\n",
              "  </tbody>\n",
              "</table>\n",
              "</div>"
            ],
            "text/plain": [
              "   shop_id  item_id  date_block_num  item_cnt  revenue  first_sale_day  month  \\\n",
              "0        2       27               0       1.0   2499.0               2      1   \n",
              "1        2       33               0       1.0    499.0               2      1   \n",
              "2        2      317               0       1.0    299.0               4      1   \n",
              "3        2      438               0       1.0    299.0              19      1   \n",
              "4        2      473               0       2.0    798.0               3      1   \n",
              "\n",
              "   year  day_quality  item_category_id  item_name_first4  item_name_first6  \\\n",
              "0     0     4.381749                19                 1                 1   \n",
              "1     0     4.381749                37               187               249   \n",
              "2     0     4.381749                45                33                38   \n",
              "3     0     4.381749                45                33                38   \n",
              "4     0     4.381749                49                35                43   \n",
              "\n",
              "   item_name_first11  type_id  shop_cluster  shop_type  shop_city  \\\n",
              "0                  1        5           4.0          1          1   \n",
              "1                414       10           4.0          1          1   \n",
              "2                 52       11           4.0          1          1   \n",
              "3                 54       11           4.0          1          1   \n",
              "4                 59       11           4.0          1          1   \n",
              "\n",
              "   prev_days_on_sale  \n",
              "0                  0  \n",
              "1                  0  \n",
              "2                  0  \n",
              "3                  0  \n",
              "4                  0  "
            ]
          },
          "metadata": {
            "tags": []
          },
          "execution_count": 35
        }
      ]
    },
    {
      "cell_type": "code",
      "metadata": {
        "id": "Qtpj0ElFhRHG"
      },
      "source": [
        "df['item_cnt_unclipped'] = df['item_cnt']\r\n",
        "df['item_cnt'] = df['item_cnt'].clip(0, 20)"
      ],
      "execution_count": 36,
      "outputs": []
    },
    {
      "cell_type": "code",
      "metadata": {
        "id": "zqZWhEC4hRJs"
      },
      "source": [
        "def downcast(df):\r\n",
        "    #reduce size of the dataframe\r\n",
        "    float_cols = [c for c in df if df[c].dtype in [\"float64\"]]\r\n",
        "    int_cols = [c for c in df if df[c].dtype in ['int64']]\r\n",
        "    df[float_cols] = df[float_cols].astype('float32')\r\n",
        "    df[int_cols] = df[int_cols].astype('int16')\r\n",
        "    return df\r\n",
        "df = downcast(df)"
      ],
      "execution_count": 37,
      "outputs": []
    },
    {
      "cell_type": "code",
      "metadata": {
        "id": "Ot4sYA6whdWv"
      },
      "source": [
        "df['item_age'] = (df['date_block_num'] - df.groupby('item_id')['date_block_num'].transform('min')).astype('int8')\r\n",
        "df['item_name_first4_age'] = (df['date_block_num'] - df.groupby('item_name_first4')['date_block_num'].transform('min')).astype('int8')\r\n",
        "df['item_name_first6_age'] = (df['date_block_num'] - df.groupby('item_name_first6')['date_block_num'].transform('min')).astype('int8')\r\n",
        "df['item_name_first11_age'] = (df['date_block_num'] - df.groupby('item_name_first11')['date_block_num'].transform('min')).astype('int8')\r\n",
        "df['category_age'] = (df['date_block_num'] - df.groupby('item_category_id')['date_block_num'].transform('min')).astype('int8')\r\n",
        "df['group_age'] = (df['date_block_num'] - df.groupby('type_id')['date_block_num'].transform('min')).astype('int8')\r\n",
        "df['shop_age'] = (df['date_block_num'] - df.groupby('shop_id')['date_block_num'].transform('min')).astype('int8')"
      ],
      "execution_count": 38,
      "outputs": []
    },
    {
      "cell_type": "code",
      "metadata": {
        "id": "FsIFB8R8hdZY"
      },
      "source": [
        "#indicates whether shops have previously sold the item\r\n",
        "temp = df.query('item_cnt > 0').groupby(['item_id','shop_id']).agg({'date_block_num':'min'}).reset_index()\r\n",
        "temp.columns = ['item_id', 'shop_id', 'item_shop_first_sale']\r\n",
        "df = pd.merge(df, temp, on=['item_id','shop_id'], how='left')\r\n",
        "df['item_shop_first_sale'] = df['item_shop_first_sale'].fillna(50)\r\n",
        "#item age that stays at 0 if a shop hasn't sold the item\r\n",
        "df['item_age_if_shop_sale'] = (df['date_block_num'] > df['item_shop_first_sale']) * df['item_age']\r\n",
        "#the length of time an item has been for sale without being sold at individual shops\r\n",
        "df['item_age_without_shop_sale'] = (df['date_block_num'] <= df['item_shop_first_sale']) * df['item_age']\r\n",
        "del df['item_shop_first_sale']"
      ],
      "execution_count": 39,
      "outputs": []
    },
    {
      "cell_type": "code",
      "metadata": {
        "id": "cEBBl7lEhhq8"
      },
      "source": [
        "def agg_cnt_col(df, merging_cols, new_col,aggregation):\r\n",
        "    temp = df.groupby(merging_cols).agg(aggregation).reset_index()\r\n",
        "    temp.columns = merging_cols + [new_col]\r\n",
        "    df = pd.merge(df, temp, on=merging_cols, how='left')\r\n",
        "    return df\r\n",
        "\r\n",
        "#individual items across all shops\r\n",
        "df = agg_cnt_col(df, ['date_block_num','item_id'],'item_cnt_all_shops',{'item_cnt':'mean'})\r\n",
        "df = agg_cnt_col(df, ['date_block_num','item_category_id','shop_id'],'item_cnt_all_shops_median',{'item_cnt':'median'}) \r\n",
        "#all items in category at individual shops\r\n",
        "df = agg_cnt_col(df, ['date_block_num','item_category_id','shop_id'],'category_cnt',{'item_cnt':'mean'})\r\n",
        "df = agg_cnt_col(df, ['date_block_num','item_category_id','shop_id'],'category_cnt_median',{'item_cnt':'median'}) \r\n",
        "#all items in category across all shops\r\n",
        "df = agg_cnt_col(df, ['date_block_num','item_category_id'],'category_cnt_all_shops',{'item_cnt':'mean'})\r\n",
        "df = agg_cnt_col(df, ['date_block_num','item_category_id'],'category_cnt_all_shops_median',{'item_cnt':'median'})\r\n",
        "#all items in group\r\n",
        "df = agg_cnt_col(df, ['date_block_num','type_id','shop_id'],'group_cnt',{'item_cnt':'mean'})\r\n",
        "#all items in group across all shops\r\n",
        "df = agg_cnt_col(df, ['date_block_num','type_id'],'group_cnt_all_shops',{'item_cnt':'mean'})\r\n",
        "#all items at individual shops\r\n",
        "df = agg_cnt_col(df, ['date_block_num','shop_id'],'shop_cnt',{'item_cnt':'mean'})\r\n",
        "#all items at all shops within the city\r\n",
        "df = agg_cnt_col(df, ['date_block_num','shop_city'],'city_cnt',{'item_cnt':'mean'})"
      ],
      "execution_count": 112,
      "outputs": []
    },
    {
      "cell_type": "code",
      "metadata": {
        "id": "rBtZ9SychhxY"
      },
      "source": [
        "def new_item_sales(df, merging_cols, new_col):\r\n",
        "    temp = (\r\n",
        "        df\r\n",
        "        .query('item_age==0')\r\n",
        "        .groupby(merging_cols)['item_cnt']\r\n",
        "        .mean()\r\n",
        "        .reset_index()\r\n",
        "        .rename(columns={'item_cnt': new_col})\r\n",
        "    )\r\n",
        "    df = pd.merge(df, temp, on=merging_cols, how='left')\r\n",
        "    return df\r\n",
        "\r\n",
        "#mean units sold of new item in category at individual shop\r\n",
        "df = new_item_sales(df, ['date_block_num','item_category_id','shop_id'], 'new_items_in_cat')\r\n",
        "#mean units sold of new item in category across all shops\r\n",
        "df = new_item_sales(df, ['date_block_num','item_category_id'], 'new_items_in_cat_all_shops')"
      ],
      "execution_count": 113,
      "outputs": []
    },
    {
      "cell_type": "code",
      "metadata": {
        "id": "DLHi5oDzhh00"
      },
      "source": [
        "def agg_price_col(df, merging_cols, new_col):\r\n",
        "    temp = df.groupby(merging_cols).agg({'revenue':'sum','item_cnt_unclipped':'sum'}).reset_index()\r\n",
        "    temp[new_col] = temp['revenue']/temp['item_cnt_unclipped']\r\n",
        "    temp = temp[merging_cols + [new_col]]\r\n",
        "    df = pd.merge(df, temp, on=merging_cols, how='left')\r\n",
        "    return df\r\n",
        "\r\n",
        "#average item price\r\n",
        "df = agg_price_col(df,['date_block_num','item_id'],'item_price')\r\n",
        "#average price of items in category\r\n",
        "df = agg_price_col(df,['date_block_num','item_category_id'],'category_price')\r\n",
        "#average price of all items\r\n",
        "df = agg_price_col(df,['date_block_num'],'block_price')"
      ],
      "execution_count": 114,
      "outputs": []
    },
    {
      "cell_type": "code",
      "metadata": {
        "id": "n_tkGGMzhnx3"
      },
      "source": [
        "df = downcast(df)"
      ],
      "execution_count": 115,
      "outputs": []
    },
    {
      "cell_type": "markdown",
      "metadata": {
        "id": "XuivuFHshpvu"
      },
      "source": [
        "Lagging values & features that use prior information"
      ]
    },
    {
      "cell_type": "code",
      "metadata": {
        "id": "cC-AJSOdhn2x"
      },
      "source": [
        "def lag_feature(df, lag, col, merge_cols):        \r\n",
        "    temp = df[merge_cols + [col]]\r\n",
        "    temp = temp.groupby(merge_cols).agg({f'{col}':'first'}).reset_index()\r\n",
        "    temp.columns = merge_cols + [f'{col}_lag{lag}']\r\n",
        "    temp['date_block_num'] += lag\r\n",
        "    df = pd.merge(df, temp, on=merge_cols, how='left')\r\n",
        "    df[f'{col}_lag{lag}'] = df[f'{col}_lag{lag}'].fillna(0).astype('float32')\r\n",
        "    return df"
      ],
      "execution_count": 116,
      "outputs": []
    },
    {
      "cell_type": "code",
      "metadata": {
        "id": "uantunUyhn7f"
      },
      "source": [
        "lag12_cols = {\r\n",
        "    'item_cnt':['date_block_num', 'shop_id', 'item_id'],\r\n",
        "    'item_cnt_all_shops':['date_block_num', 'item_id'],\r\n",
        "    'category_cnt':['date_block_num', 'shop_id', 'item_category_id'],\r\n",
        "    'category_cnt_all_shops':['date_block_num', 'item_category_id'],\r\n",
        "    'group_cnt':['date_block_num', 'shop_id', 'type_id'],\r\n",
        "    'group_cnt_all_shops':['date_block_num', 'type_id'],\r\n",
        "    'shop_cnt':['date_block_num', 'shop_id'],\r\n",
        "    'city_cnt':['date_block_num', 'shop_city'],\r\n",
        "    'new_items_in_cat':['date_block_num', 'shop_id', 'item_category_id'],\r\n",
        "    'new_items_in_cat_all_shops':['date_block_num', 'item_category_id']\r\n",
        "}\r\n",
        "for col,merge_cols in lag12_cols.items():\r\n",
        "    df[f'{col}_lag1to12'] = 0\r\n",
        "    for i in range(1,13):\r\n",
        "        df = lag_feature(df, i, col, merge_cols)\r\n",
        "        df[f'{col}_lag1to12'] += df[f'{col}_lag{i}']\r\n",
        "        if i > 2:\r\n",
        "            del df[f'{col}_lag{i}']\r\n",
        "    if col == 'item_cnt':\r\n",
        "        del df[f'{col}_lag1']\r\n",
        "        del df[f'{col}_lag2']        \r\n",
        "    else:\r\n",
        "        del df[col]"
      ],
      "execution_count": 117,
      "outputs": []
    },
    {
      "cell_type": "code",
      "metadata": {
        "id": "bl8rWF4nhzi8"
      },
      "source": [
        "lag2_cols = {\r\n",
        "    'item_cnt_unclipped':['date_block_num', 'shop_id', 'item_id'],\r\n",
        "    'item_cnt_all_shops_median':['date_block_num', 'item_id'],\r\n",
        "    'category_cnt_median':['date_block_num', 'shop_id', 'category_id'],\r\n",
        "    'category_cnt_all_shops_median':['date_block_num', 'category_id']\r\n",
        "}\r\n",
        "for col in lag2_cols:\r\n",
        "    df = lag_feature(df, 1, col, merge_cols)\r\n",
        "    df = lag_feature(df, 2, col, merge_cols)\r\n",
        "    if col!='item_cnt_unclipped':\r\n",
        "        del df[col]"
      ],
      "execution_count": 118,
      "outputs": []
    },
    {
      "cell_type": "code",
      "metadata": {
        "id": "A_PSEqHthzmj"
      },
      "source": [
        "df['item_cnt_diff'] = df['item_cnt_unclipped_lag1']/df['item_cnt_lag1to12']\r\n",
        "df['item_cnt_all_shops_diff'] = df['item_cnt_all_shops_lag1']/df['item_cnt_all_shops_lag1to12']\r\n",
        "df['category_cnt_diff'] = df['category_cnt_lag1']/df['category_cnt_lag1to12']\r\n",
        "df['category_cnt_all_shops_diff'] = df['category_cnt_all_shops_lag1']/df['category_cnt_all_shops_lag1to12']"
      ],
      "execution_count": 119,
      "outputs": []
    },
    {
      "cell_type": "code",
      "metadata": {
        "id": "ZJkFpeDNhzrA"
      },
      "source": [
        "df = lag_feature(df, 1, 'category_price',['date_block_num', 'item_category_id'])\r\n",
        "df = lag_feature(df, 1, 'block_price',['date_block_num'])\r\n",
        "del df['category_price'], df['block_price']"
      ],
      "execution_count": 120,
      "outputs": []
    },
    {
      "cell_type": "code",
      "metadata": {
        "id": "zkIkFl2vh4Qr"
      },
      "source": [
        "df.loc[(df['item_age']>0) & (df['item_cnt_lag1to12'].isna()), 'item_cnt_lag1to12'] = 0\r\n",
        "df.loc[(df['category_age']>0) & (df['category_cnt_lag1to12'].isna()), 'category_cnt_lag1to12'] = 0\r\n",
        "df.loc[(df['group_age']>0) & (df['group_cnt_lag1to12'].isna()), 'group_cnt_lag1to12'] = 0"
      ],
      "execution_count": 121,
      "outputs": []
    },
    {
      "cell_type": "code",
      "metadata": {
        "id": "q1O02tCgh4UD"
      },
      "source": [
        "df['item_cnt_lag1to12'] /= [min(idx) for idx in zip(df['item_age'],df['shop_age'],[12]*len(df))]\r\n",
        "df['item_cnt_all_shops_lag1to12'] /= [min(idx) for idx in zip(df['item_age'],[12]*len(df))]\r\n",
        "df['category_cnt_lag1to12'] /= [min(idx) for idx in zip(df['category_age'],df['shop_age'],[12]*len(df))]\r\n",
        "df['category_cnt_all_shops_lag1to12'] /= [min(idx) for idx in zip(df['category_age'],[12]*len(df))]\r\n",
        "df['group_cnt_lag1to12'] /= [min(idx) for idx in zip(df['group_age'],df['shop_age'],[12]*len(df))]\r\n",
        "df['group_cnt_all_shops_lag1to12'] /= [min(idx) for idx in zip(df['group_age'],[12]*len(df))]\r\n",
        "df['city_cnt_lag1to12'] /= [min(idx) for idx in zip(df['date_block_num'],[12]*len(df))]\r\n",
        "df['shop_cnt_lag1to12'] /= [min(idx) for idx in zip(df['shop_age'],[12]*len(df))]\r\n",
        "df['new_items_in_cat_lag1to12'] /= [min(idx) for idx in zip(df['category_age'],df['shop_age'],[12]*len(df))]\r\n",
        "df['new_items_in_cat_all_shops_lag1to12'] /= [min(idx) for idx in zip(df['category_age'],[12]*len(df))]"
      ],
      "execution_count": 122,
      "outputs": []
    },
    {
      "cell_type": "code",
      "metadata": {
        "id": "p6bN9hHth4Y3"
      },
      "source": [
        "df = downcast(df)"
      ],
      "execution_count": 123,
      "outputs": []
    },
    {
      "cell_type": "code",
      "metadata": {
        "id": "XpVAla1Ph4d4"
      },
      "source": [
        "def past_information(df, merging_cols, new_col, aggregation):\r\n",
        "    temp = []\r\n",
        "    for i in range(1,35):\r\n",
        "        block = df.query(f'date_block_num < {i}').groupby(merging_cols).agg(aggregation).reset_index()\r\n",
        "        block.columns = merging_cols + [new_col]\r\n",
        "        block['date_block_num'] = i\r\n",
        "        block = block[block[new_col]>0]\r\n",
        "        temp.append(block)\r\n",
        "    temp = pd.concat(temp)\r\n",
        "    df = pd.merge(df, temp, on=['date_block_num']+merging_cols, how='left')\r\n",
        "    return df\r\n",
        "\r\n",
        "#average item price in latest block item was sold\r\n",
        "df = past_information(df, ['item_id'],'last_item_price',{'item_price':'last'})\r\n",
        "#total units of item sold at individual shop\r\n",
        "df = past_information(df, ['shop_id','item_id'],'item_cnt_sum_alltime',{'item_cnt':'sum'})\r\n",
        "#total units of item sold at all shops\r\n",
        "df = past_information(df, ['item_id'],'item_cnt_sum_alltime_allshops',{'item_cnt':'sum'})\r\n",
        "\r\n",
        "#these columns are no longer needed, and would cause data leakage if retained\r\n",
        "del df['revenue'], df['item_cnt_unclipped'], df['item_price']"
      ],
      "execution_count": 124,
      "outputs": []
    },
    {
      "cell_type": "code",
      "metadata": {
        "id": "hvrRGIyeiBNd"
      },
      "source": [
        "df['relative_price_item_block_lag1'] = df['last_item_price']/df['block_price_lag1']"
      ],
      "execution_count": 125,
      "outputs": []
    },
    {
      "cell_type": "code",
      "metadata": {
        "id": "hYwSWIvziBRJ"
      },
      "source": [
        "df['item_cnt_per_day_alltime'] = (df['item_cnt_sum_alltime']/df['prev_days_on_sale']).fillna(0)\r\n",
        "df['item_cnt_per_day_alltime_allshops'] = (df['item_cnt_sum_alltime_allshops']/df['prev_days_on_sale']).fillna(0)"
      ],
      "execution_count": 126,
      "outputs": []
    },
    {
      "cell_type": "code",
      "metadata": {
        "id": "YaMwOy_7iEOF"
      },
      "source": [
        "import gc\r\n",
        "gc.collect()\r\n",
        "df = downcast(df)"
      ],
      "execution_count": 127,
      "outputs": []
    },
    {
      "cell_type": "code",
      "metadata": {
        "id": "kMVC_syPiERC"
      },
      "source": [
        "def matching_name_cat_age(df,n,all_shops):\r\n",
        "    temp_cols = [f'same_name{n}catage_cnt','date_block_num', f'item_name_first{n}','item_age','item_category_id']\r\n",
        "    if all_shops:\r\n",
        "        temp_cols[0] += '_all_shops'\r\n",
        "    else:\r\n",
        "        temp_cols += ['shop_id']\r\n",
        "    temp = []\r\n",
        "    for i in range(1,35):\r\n",
        "        block = (\r\n",
        "            df\r\n",
        "            .query(f'date_block_num < {i}')\r\n",
        "            .groupby(temp_cols[2:])\r\n",
        "            .agg({'item_cnt':'mean'})\r\n",
        "            .reset_index()\r\n",
        "            .rename(columns={'item_cnt':temp_cols[0]})\r\n",
        "        )\r\n",
        "        block = block[block[temp_cols[0]]>0]\r\n",
        "        block['date_block_num'] = i\r\n",
        "        temp.append(block)\r\n",
        "    temp = pd.concat(temp)\r\n",
        "    df = pd.merge(df, temp, on=temp_cols[1:], how='left')\r\n",
        "    return df\r\n",
        "\r\n",
        "for n in [4,6,11]:\r\n",
        "    for all_shops in [True,False]:\r\n",
        "        df = matching_name_cat_age(df,n,all_shops)"
      ],
      "execution_count": 128,
      "outputs": []
    },
    {
      "cell_type": "code",
      "metadata": {
        "id": "kChEV7kziEUz"
      },
      "source": [
        "#assign appropriate datatypes\r\n",
        "df = downcast(df)\r\n",
        "int8_cols = [\r\n",
        "    'item_cnt','month','type_id','shop_type',\r\n",
        "    'shop_city','shop_id','date_block_num','item_category_id',\r\n",
        "    'item_age',\r\n",
        "]\r\n",
        "int16_cols = [\r\n",
        "    'item_id','item_name_first4',\r\n",
        "    'item_name_first6','item_name_first11'\r\n",
        "]\r\n",
        "for col in int8_cols:\r\n",
        "    df[col] = df[col].astype('int8')\r\n",
        "for col in int16_cols:\r\n",
        "    df[col] = df[col].astype('int16')"
      ],
      "execution_count": 129,
      "outputs": []
    },
    {
      "cell_type": "code",
      "metadata": {
        "id": "nBIvBTejiKj-"
      },
      "source": [
        "def nearby_item_data(df,col):\r\n",
        "    if col in ['item_cnt_unclipped_lag1','item_cnt_lag1to12']:\r\n",
        "        cols = ['date_block_num', 'shop_id', 'item_id']\r\n",
        "        temp = df[cols + [col]] \r\n",
        "    else:\r\n",
        "        cols = ['date_block_num', 'item_id']\r\n",
        "        temp = df.groupby(cols).agg({col:'first'}).reset_index()[cols + [col]]   \r\n",
        "    \r\n",
        "    temp.columns = cols + [f'below_{col}']\r\n",
        "    temp['item_id'] += 1\r\n",
        "    df = pd.merge(df, temp, on=cols, how='left')\r\n",
        "    \r\n",
        "    temp.columns = cols + [f'above_{col}']\r\n",
        "    temp['item_id'] -= 2\r\n",
        "    df = pd.merge(df, temp, on=cols, how='left')\r\n",
        "    \r\n",
        "    return df\r\n",
        "\r\n",
        "item_cols = ['item_cnt_unclipped_lag1','item_cnt_lag1to12',\r\n",
        "             'item_cnt_all_shops_lag1','item_cnt_all_shops_lag1to12']\r\n",
        "for col in item_cols:\r\n",
        "    df = nearby_item_data(df,col)\r\n",
        "    \r\n",
        "del temp"
      ],
      "execution_count": 130,
      "outputs": []
    },
    {
      "cell_type": "markdown",
      "metadata": {
        "id": "vYVUiEtYiN34"
      },
      "source": [
        "encoding name information"
      ]
    },
    {
      "cell_type": "code",
      "metadata": {
        "id": "NajZHVMuiKpt"
      },
      "source": [
        "results = Counter()\r\n",
        "items['item_name'].str.split().apply(results.update)\r\n",
        "\r\n",
        "words = []\r\n",
        "cnts = []\r\n",
        "for key, value in results.items():\r\n",
        "    words.append(key)\r\n",
        "    cnts.append(value)\r\n",
        "    \r\n",
        "counts = pd.DataFrame({'word':words,'count':cnts})\r\n",
        "common_words = counts.query('count>200').word.to_list()\r\n",
        "for word in common_words:\r\n",
        "    items[f'{word}_in_name'] = items['item_name'].str.contains(word).astype('int8')\r\n",
        "drop_cols = [\r\n",
        "    'item_id','item_category_id','item_name','item_name_first4',\r\n",
        "    'item_name_first6','item_name_first11',\r\n",
        "    'type_id'\r\n",
        "]\r\n",
        "items = items.drop(columns=drop_cols)"
      ],
      "execution_count": 131,
      "outputs": []
    },
    {
      "cell_type": "code",
      "metadata": {
        "id": "RTnJ53pXiKt6"
      },
      "source": [
        "df = df.join(items, on='item_id')"
      ],
      "execution_count": 132,
      "outputs": []
    },
    {
      "cell_type": "code",
      "metadata": {
        "id": "V4cu0R-miR_i"
      },
      "source": [
        "def binary_encode(df, letters, cols):\r\n",
        "    encoder = ce.BinaryEncoder(cols=[f'item_name_first{letters}'], return_df=True)\r\n",
        "    temp = encoder.fit_transform(df[f'item_name_first{letters}'])\r\n",
        "    df = pd.concat([df,temp], axis=1)\r\n",
        "    del df[f'item_name_first{letters}_0']\r\n",
        "    name_cols = [f'item_name_first{letters}_{x}' for x in range(1,cols)]\r\n",
        "    df[name_cols] = df[name_cols].astype('int8')\r\n",
        "    return df\r\n",
        "\r\n",
        "df = binary_encode(df, 11, 15)\r\n",
        "    \r\n",
        "del df['item_name_first4'], df['item_name_first6']"
      ],
      "execution_count": 133,
      "outputs": []
    },
    {
      "cell_type": "code",
      "metadata": {
        "id": "8041uECIiSCS"
      },
      "source": [
        "#save dataframe for later use\r\n",
        "df.to_pickle('df_complete.pkl')\r\n",
        "#Reset the kernel to clear memory.\r\n",
        "%reset -f"
      ],
      "execution_count": 134,
      "outputs": []
    },
    {
      "cell_type": "markdown",
      "metadata": {
        "id": "efSm071iiY7t"
      },
      "source": [
        "# Modeling"
      ]
    },
    {
      "cell_type": "code",
      "metadata": {
        "id": "ZXPxSSs0iSHb"
      },
      "source": [
        "import pandas as pd\r\n",
        "import numpy as np\r\n",
        "import lightgbm as lgb\r\n",
        "from plotly.subplots import make_subplots\r\n",
        "import plotly.graph_objects as go\r\n",
        "\r\n",
        "pd.set_option('display.max_rows', 160)\r\n",
        "pd.set_option('display.max_columns', 160)\r\n",
        "pd.set_option('display.max_colwidth', 30)\r\n",
        "\r\n",
        "import warnings\r\n",
        "warnings.filterwarnings(\"ignore\")"
      ],
      "execution_count": 135,
      "outputs": []
    },
    {
      "cell_type": "code",
      "metadata": {
        "id": "2b4ghAZjiv82"
      },
      "source": [
        "#load the saved training dataframe\r\n",
        "df = pd.read_pickle('df_complete.pkl')\r\n",
        "\r\n",
        "X_train = df[~df.date_block_num.isin([0,1,33,34])]\r\n",
        "y_train = X_train['item_cnt']\r\n",
        "del X_train['item_cnt']\r\n",
        "\r\n",
        "X_val = df[df['date_block_num']==33]\r\n",
        "y_val = X_val['item_cnt']\r\n",
        "del X_val['item_cnt']\r\n",
        "\r\n",
        "X_test = df[df['date_block_num']==34].drop(columns='item_cnt')\r\n",
        "X_test = X_test.reset_index()\r\n",
        "del X_test['index']\r\n",
        "\r\n",
        "#free memory\r\n",
        "del df"
      ],
      "execution_count": 64,
      "outputs": []
    },
    {
      "cell_type": "code",
      "metadata": {
        "id": "r8Wk0j45ot3N"
      },
      "source": [
        "def build_lgb_model(params, X_train, X_val, y_train, y_val, cat_features):\r\n",
        "    lgb_train = lgb.Dataset(X_train, y_train)\r\n",
        "    lgb_val = lgb.Dataset(X_val, y_val)\r\n",
        "    model = lgb.train(params=params, train_set=lgb_train, valid_sets=(lgb_train, lgb_val), verbose_eval=50,\r\n",
        "                     categorical_feature=cat_features)\r\n",
        "    return model"
      ],
      "execution_count": 65,
      "outputs": []
    },
    {
      "cell_type": "code",
      "metadata": {
        "id": "M49IXJBzot9b",
        "outputId": "599536fe-37cf-48d9-dab2-8efd8f5d4c89",
        "colab": {
          "base_uri": "https://localhost:8080/"
        }
      },
      "source": [
        "params = {\r\n",
        "    'objective': 'rmse',\r\n",
        "    'metric': 'rmse',\r\n",
        "    'num_leaves': 1023,\r\n",
        "    'min_data_in_leaf':10,\r\n",
        "    'feature_fraction':0.7,\r\n",
        "    'learning_rate': 0.01,\r\n",
        "    'num_rounds': 1000,\r\n",
        "    'early_stopping_rounds': 30,\r\n",
        "    'seed': 1\r\n",
        "}\r\n",
        "#designating the categorical features which should be focused on\r\n",
        "cat_features = ['item_category_id','month','shop_id','shop_city']\r\n",
        "\r\n",
        "lgb_model = build_lgb_model(params, X_train, X_val, y_train, y_val, cat_features)\r\n",
        "\r\n",
        "#save model for later use\r\n",
        "lgb_model.save_model('initial_lgb_model.txt')"
      ],
      "execution_count": 66,
      "outputs": [
        {
          "output_type": "stream",
          "text": [
            "Training until validation scores don't improve for 30 rounds.\n",
            "[50]\ttraining's rmse: 0.978846\tvalid_1's rmse: 0.894556\n",
            "[100]\ttraining's rmse: 0.839664\tvalid_1's rmse: 0.809296\n",
            "[150]\ttraining's rmse: 0.764856\tvalid_1's rmse: 0.772927\n",
            "[200]\ttraining's rmse: 0.7226\tvalid_1's rmse: 0.755668\n",
            "[250]\ttraining's rmse: 0.694858\tvalid_1's rmse: 0.747508\n",
            "[300]\ttraining's rmse: 0.675226\tvalid_1's rmse: 0.743393\n",
            "[350]\ttraining's rmse: 0.659799\tvalid_1's rmse: 0.741687\n",
            "[400]\ttraining's rmse: 0.646908\tvalid_1's rmse: 0.74061\n",
            "[450]\ttraining's rmse: 0.63635\tvalid_1's rmse: 0.7402\n",
            "[500]\ttraining's rmse: 0.626789\tvalid_1's rmse: 0.739559\n",
            "Early stopping, best iteration is:\n",
            "[518]\ttraining's rmse: 0.623785\tvalid_1's rmse: 0.739387\n"
          ],
          "name": "stdout"
        },
        {
          "output_type": "execute_result",
          "data": {
            "text/plain": [
              "<lightgbm.basic.Booster at 0x7fb1e6ffab90>"
            ]
          },
          "metadata": {
            "tags": []
          },
          "execution_count": 66
        }
      ]
    },
    {
      "cell_type": "code",
      "metadata": {
        "id": "GT3QjlxijOPn"
      },
      "source": [
        "# submitting\r\n",
        "\r\n",
        "submission = pd.read_csv('sample_submission.csv')\r\n",
        "submission['item_cnt_month'] = lgb_model.predict(X_test).clip(0,20)\r\n",
        "submission[['ID', 'item_cnt_month']].to_csv('initial_lgb_submission.csv', index=False)"
      ],
      "execution_count": null,
      "outputs": []
    },
    {
      "cell_type": "code",
      "metadata": {
        "id": "6t9KOqDjjQHw"
      },
      "source": [
        "submission.to_csv('final2 submission.csv', index=False)"
      ],
      "execution_count": null,
      "outputs": []
    }
  ]
}